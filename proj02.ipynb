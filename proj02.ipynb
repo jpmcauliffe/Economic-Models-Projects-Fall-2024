{
 "cells": [
  {
   "cell_type": "code",
   "execution_count": 1,
   "metadata": {
    "deletable": false,
    "editable": false
   },
   "outputs": [],
   "source": [
    "# Initialize Otter\n",
    "import otter\n",
    "grader = otter.Notebook(\"proj02.ipynb\")"
   ]
  },
  {
   "cell_type": "markdown",
   "metadata": {},
   "source": [
    "<table style=\"width: 100%;\" id=\"nb-header\">\n",
    "    <tr style=\"background-color: transparent;\"><td>\n",
    "        <img src=\"https://data-88e.github.io/assets/images/blue_text.png\" width=\"250px\" style=\"margin-left: 0;\" />\n",
    "    </td><td>\n",
    "        <p style=\"text-align: right; font-size: 10pt;\"><strong>Economic Models</strong>, Fall 2024<br>\n",
    "            Dr. Eric Van Dusen<br>\n",
    "        Umar Maniku<br>\n",
    "        Akhil Venkatesh</p></td></tr>\n",
    "</table>"
   ]
  },
  {
   "cell_type": "markdown",
   "metadata": {},
   "source": [
    "# Project 2: The Cobb-Douglas Production Function"
   ]
  },
  {
   "cell_type": "markdown",
   "metadata": {},
   "source": [
    "<!-- ## Due Dates and Important Information:\n",
    "\n",
    "- This project is in three parts.\n",
    "- The whole project (all three parts) will be due 2 Mondays from now, on March 16, 2020 at 11:59pm on Gradescope.\n",
    "- **Do not change any of the given variable or function names as this would cause autograder problems. Make sure to name your columns and tables exactly as the questions ask you to.** -->"
   ]
  },
  {
   "cell_type": "code",
   "execution_count": 2,
   "metadata": {},
   "outputs": [],
   "source": [
    "from utils import *\n",
    "import pandas as pd\n",
    "from datascience import *\n",
    "import matplotlib.pyplot as plt\n",
    "import numpy as np \n",
    "%matplotlib inline\n",
    "plt.style.use(\"seaborn-v0_8-muted\")"
   ]
  },
  {
   "cell_type": "markdown",
   "metadata": {},
   "source": [
    "The goal of this project is to gain experience completing the following key steps in the data science pipeline:\n",
    "\n",
    "1. Cleaning and filtering data collected from online sources\n",
    "2. Identifying and visualizing overall trends in the data using a process called Exploratory Data Analysis (EDA)\n",
    "3. Using the data to complete a problem of prediction\n",
    "\n",
    "We hope that by the end of this project, you will see how the skills you have learned in Data 8 and this class can prepare you for dealing with real world datasets, and how you can use them to answer questions about the economy or the world."
   ]
  },
  {
   "cell_type": "markdown",
   "metadata": {},
   "source": [
    "The question you will be answering today is the following: \n",
    "\n",
    "> How can we apply the Cobb-Douglas Production Function to understand the different ways countries produce output or GDP?"
   ]
  },
  {
   "cell_type": "markdown",
   "metadata": {},
   "source": [
    "## Part 1: Simplifying the Problem"
   ]
  },
  {
   "cell_type": "markdown",
   "metadata": {},
   "source": [
    "Let's load in the data for this project. The cell below loads the data from `pwt1001.csv` and saves it to the variable `data`. Take a look at the first 10 rows."
   ]
  },
  {
   "cell_type": "code",
   "execution_count": 3,
   "metadata": {
    "tags": [
     "gradable"
    ]
   },
   "outputs": [
    {
     "data": {
      "text/html": [
       "<table border=\"1\" class=\"dataframe\">\n",
       "    <thead>\n",
       "        <tr>\n",
       "            <th>countrycode</th> <th>country</th> <th>currency_unit</th> <th>year</th> <th>rgdpe</th> <th>rgdpo</th> <th>pop</th> <th>emp</th> <th>avh</th> <th>hc</th> <th>ccon</th> <th>cda</th> <th>cgdpe</th> <th>cgdpo</th> <th>cn</th> <th>ck</th> <th>ctfp</th> <th>cwtfp</th> <th>rgdpna</th> <th>rconna</th> <th>rdana</th> <th>rnna</th> <th>rkna</th> <th>rtfpna</th> <th>rwtfpna</th> <th>labsh</th> <th>irr</th> <th>delta</th> <th>xr</th> <th>pl_con</th> <th>pl_da</th> <th>pl_gdpo</th> <th>i_cig</th> <th>i_xm</th> <th>i_xr</th> <th>i_outlier</th> <th>i_irr</th> <th>cor_exp</th> <th>statcap</th> <th>csh_c</th> <th>csh_i</th> <th>csh_g</th> <th>csh_x</th> <th>csh_m</th> <th>csh_r</th> <th>pl_c</th> <th>pl_i</th> <th>pl_g</th> <th>pl_x</th> <th>pl_m</th> <th>pl_n</th> <th>pl_k</th>\n",
       "        </tr>\n",
       "    </thead>\n",
       "    <tbody>\n",
       "        <tr>\n",
       "            <td>ABW        </td> <td>Aruba  </td> <td>Aruban Guilder</td> <td>1950</td> <td>-1   </td> <td>-1   </td> <td>-1  </td> <td>-1  </td> <td>-1  </td> <td>-1  </td> <td>-1  </td> <td>-1  </td> <td>-1   </td> <td>-1   </td> <td>-1  </td> <td>-1  </td> <td>-1  </td> <td>-1   </td> <td>-1    </td> <td>-1    </td> <td>-1   </td> <td>-1  </td> <td>-1  </td> <td>-1    </td> <td>-1     </td> <td>-1   </td> <td>-1  </td> <td>-1   </td> <td>-1  </td> <td>-1    </td> <td>-1   </td> <td>-1     </td> <td>-1   </td> <td>-1  </td> <td>-1  </td> <td>-1       </td> <td>-1   </td> <td>-1     </td> <td>-1     </td> <td>-1   </td> <td>-1   </td> <td>-1   </td> <td>-1   </td> <td>-1   </td> <td>-1   </td> <td>-1  </td> <td>-1  </td> <td>-1  </td> <td>-1  </td> <td>-1  </td> <td>-1  </td> <td>-1  </td>\n",
       "        </tr>\n",
       "        <tr>\n",
       "            <td>ABW        </td> <td>Aruba  </td> <td>Aruban Guilder</td> <td>1951</td> <td>-1   </td> <td>-1   </td> <td>-1  </td> <td>-1  </td> <td>-1  </td> <td>-1  </td> <td>-1  </td> <td>-1  </td> <td>-1   </td> <td>-1   </td> <td>-1  </td> <td>-1  </td> <td>-1  </td> <td>-1   </td> <td>-1    </td> <td>-1    </td> <td>-1   </td> <td>-1  </td> <td>-1  </td> <td>-1    </td> <td>-1     </td> <td>-1   </td> <td>-1  </td> <td>-1   </td> <td>-1  </td> <td>-1    </td> <td>-1   </td> <td>-1     </td> <td>-1   </td> <td>-1  </td> <td>-1  </td> <td>-1       </td> <td>-1   </td> <td>-1     </td> <td>-1     </td> <td>-1   </td> <td>-1   </td> <td>-1   </td> <td>-1   </td> <td>-1   </td> <td>-1   </td> <td>-1  </td> <td>-1  </td> <td>-1  </td> <td>-1  </td> <td>-1  </td> <td>-1  </td> <td>-1  </td>\n",
       "        </tr>\n",
       "        <tr>\n",
       "            <td>ABW        </td> <td>Aruba  </td> <td>Aruban Guilder</td> <td>1952</td> <td>-1   </td> <td>-1   </td> <td>-1  </td> <td>-1  </td> <td>-1  </td> <td>-1  </td> <td>-1  </td> <td>-1  </td> <td>-1   </td> <td>-1   </td> <td>-1  </td> <td>-1  </td> <td>-1  </td> <td>-1   </td> <td>-1    </td> <td>-1    </td> <td>-1   </td> <td>-1  </td> <td>-1  </td> <td>-1    </td> <td>-1     </td> <td>-1   </td> <td>-1  </td> <td>-1   </td> <td>-1  </td> <td>-1    </td> <td>-1   </td> <td>-1     </td> <td>-1   </td> <td>-1  </td> <td>-1  </td> <td>-1       </td> <td>-1   </td> <td>-1     </td> <td>-1     </td> <td>-1   </td> <td>-1   </td> <td>-1   </td> <td>-1   </td> <td>-1   </td> <td>-1   </td> <td>-1  </td> <td>-1  </td> <td>-1  </td> <td>-1  </td> <td>-1  </td> <td>-1  </td> <td>-1  </td>\n",
       "        </tr>\n",
       "        <tr>\n",
       "            <td>ABW        </td> <td>Aruba  </td> <td>Aruban Guilder</td> <td>1953</td> <td>-1   </td> <td>-1   </td> <td>-1  </td> <td>-1  </td> <td>-1  </td> <td>-1  </td> <td>-1  </td> <td>-1  </td> <td>-1   </td> <td>-1   </td> <td>-1  </td> <td>-1  </td> <td>-1  </td> <td>-1   </td> <td>-1    </td> <td>-1    </td> <td>-1   </td> <td>-1  </td> <td>-1  </td> <td>-1    </td> <td>-1     </td> <td>-1   </td> <td>-1  </td> <td>-1   </td> <td>-1  </td> <td>-1    </td> <td>-1   </td> <td>-1     </td> <td>-1   </td> <td>-1  </td> <td>-1  </td> <td>-1       </td> <td>-1   </td> <td>-1     </td> <td>-1     </td> <td>-1   </td> <td>-1   </td> <td>-1   </td> <td>-1   </td> <td>-1   </td> <td>-1   </td> <td>-1  </td> <td>-1  </td> <td>-1  </td> <td>-1  </td> <td>-1  </td> <td>-1  </td> <td>-1  </td>\n",
       "        </tr>\n",
       "        <tr>\n",
       "            <td>ABW        </td> <td>Aruba  </td> <td>Aruban Guilder</td> <td>1954</td> <td>-1   </td> <td>-1   </td> <td>-1  </td> <td>-1  </td> <td>-1  </td> <td>-1  </td> <td>-1  </td> <td>-1  </td> <td>-1   </td> <td>-1   </td> <td>-1  </td> <td>-1  </td> <td>-1  </td> <td>-1   </td> <td>-1    </td> <td>-1    </td> <td>-1   </td> <td>-1  </td> <td>-1  </td> <td>-1    </td> <td>-1     </td> <td>-1   </td> <td>-1  </td> <td>-1   </td> <td>-1  </td> <td>-1    </td> <td>-1   </td> <td>-1     </td> <td>-1   </td> <td>-1  </td> <td>-1  </td> <td>-1       </td> <td>-1   </td> <td>-1     </td> <td>-1     </td> <td>-1   </td> <td>-1   </td> <td>-1   </td> <td>-1   </td> <td>-1   </td> <td>-1   </td> <td>-1  </td> <td>-1  </td> <td>-1  </td> <td>-1  </td> <td>-1  </td> <td>-1  </td> <td>-1  </td>\n",
       "        </tr>\n",
       "        <tr>\n",
       "            <td>ABW        </td> <td>Aruba  </td> <td>Aruban Guilder</td> <td>1955</td> <td>-1   </td> <td>-1   </td> <td>-1  </td> <td>-1  </td> <td>-1  </td> <td>-1  </td> <td>-1  </td> <td>-1  </td> <td>-1   </td> <td>-1   </td> <td>-1  </td> <td>-1  </td> <td>-1  </td> <td>-1   </td> <td>-1    </td> <td>-1    </td> <td>-1   </td> <td>-1  </td> <td>-1  </td> <td>-1    </td> <td>-1     </td> <td>-1   </td> <td>-1  </td> <td>-1   </td> <td>-1  </td> <td>-1    </td> <td>-1   </td> <td>-1     </td> <td>-1   </td> <td>-1  </td> <td>-1  </td> <td>-1       </td> <td>-1   </td> <td>-1     </td> <td>-1     </td> <td>-1   </td> <td>-1   </td> <td>-1   </td> <td>-1   </td> <td>-1   </td> <td>-1   </td> <td>-1  </td> <td>-1  </td> <td>-1  </td> <td>-1  </td> <td>-1  </td> <td>-1  </td> <td>-1  </td>\n",
       "        </tr>\n",
       "        <tr>\n",
       "            <td>ABW        </td> <td>Aruba  </td> <td>Aruban Guilder</td> <td>1956</td> <td>-1   </td> <td>-1   </td> <td>-1  </td> <td>-1  </td> <td>-1  </td> <td>-1  </td> <td>-1  </td> <td>-1  </td> <td>-1   </td> <td>-1   </td> <td>-1  </td> <td>-1  </td> <td>-1  </td> <td>-1   </td> <td>-1    </td> <td>-1    </td> <td>-1   </td> <td>-1  </td> <td>-1  </td> <td>-1    </td> <td>-1     </td> <td>-1   </td> <td>-1  </td> <td>-1   </td> <td>-1  </td> <td>-1    </td> <td>-1   </td> <td>-1     </td> <td>-1   </td> <td>-1  </td> <td>-1  </td> <td>-1       </td> <td>-1   </td> <td>-1     </td> <td>-1     </td> <td>-1   </td> <td>-1   </td> <td>-1   </td> <td>-1   </td> <td>-1   </td> <td>-1   </td> <td>-1  </td> <td>-1  </td> <td>-1  </td> <td>-1  </td> <td>-1  </td> <td>-1  </td> <td>-1  </td>\n",
       "        </tr>\n",
       "        <tr>\n",
       "            <td>ABW        </td> <td>Aruba  </td> <td>Aruban Guilder</td> <td>1957</td> <td>-1   </td> <td>-1   </td> <td>-1  </td> <td>-1  </td> <td>-1  </td> <td>-1  </td> <td>-1  </td> <td>-1  </td> <td>-1   </td> <td>-1   </td> <td>-1  </td> <td>-1  </td> <td>-1  </td> <td>-1   </td> <td>-1    </td> <td>-1    </td> <td>-1   </td> <td>-1  </td> <td>-1  </td> <td>-1    </td> <td>-1     </td> <td>-1   </td> <td>-1  </td> <td>-1   </td> <td>-1  </td> <td>-1    </td> <td>-1   </td> <td>-1     </td> <td>-1   </td> <td>-1  </td> <td>-1  </td> <td>-1       </td> <td>-1   </td> <td>-1     </td> <td>-1     </td> <td>-1   </td> <td>-1   </td> <td>-1   </td> <td>-1   </td> <td>-1   </td> <td>-1   </td> <td>-1  </td> <td>-1  </td> <td>-1  </td> <td>-1  </td> <td>-1  </td> <td>-1  </td> <td>-1  </td>\n",
       "        </tr>\n",
       "        <tr>\n",
       "            <td>ABW        </td> <td>Aruba  </td> <td>Aruban Guilder</td> <td>1958</td> <td>-1   </td> <td>-1   </td> <td>-1  </td> <td>-1  </td> <td>-1  </td> <td>-1  </td> <td>-1  </td> <td>-1  </td> <td>-1   </td> <td>-1   </td> <td>-1  </td> <td>-1  </td> <td>-1  </td> <td>-1   </td> <td>-1    </td> <td>-1    </td> <td>-1   </td> <td>-1  </td> <td>-1  </td> <td>-1    </td> <td>-1     </td> <td>-1   </td> <td>-1  </td> <td>-1   </td> <td>-1  </td> <td>-1    </td> <td>-1   </td> <td>-1     </td> <td>-1   </td> <td>-1  </td> <td>-1  </td> <td>-1       </td> <td>-1   </td> <td>-1     </td> <td>-1     </td> <td>-1   </td> <td>-1   </td> <td>-1   </td> <td>-1   </td> <td>-1   </td> <td>-1   </td> <td>-1  </td> <td>-1  </td> <td>-1  </td> <td>-1  </td> <td>-1  </td> <td>-1  </td> <td>-1  </td>\n",
       "        </tr>\n",
       "        <tr>\n",
       "            <td>ABW        </td> <td>Aruba  </td> <td>Aruban Guilder</td> <td>1959</td> <td>-1   </td> <td>-1   </td> <td>-1  </td> <td>-1  </td> <td>-1  </td> <td>-1  </td> <td>-1  </td> <td>-1  </td> <td>-1   </td> <td>-1   </td> <td>-1  </td> <td>-1  </td> <td>-1  </td> <td>-1   </td> <td>-1    </td> <td>-1    </td> <td>-1   </td> <td>-1  </td> <td>-1  </td> <td>-1    </td> <td>-1     </td> <td>-1   </td> <td>-1  </td> <td>-1   </td> <td>-1  </td> <td>-1    </td> <td>-1   </td> <td>-1     </td> <td>-1   </td> <td>-1  </td> <td>-1  </td> <td>-1       </td> <td>-1   </td> <td>-1     </td> <td>-1     </td> <td>-1   </td> <td>-1   </td> <td>-1   </td> <td>-1   </td> <td>-1   </td> <td>-1   </td> <td>-1  </td> <td>-1  </td> <td>-1  </td> <td>-1  </td> <td>-1  </td> <td>-1  </td> <td>-1  </td>\n",
       "        </tr>\n",
       "    </tbody>\n",
       "</table>\n",
       "<p>... (12800 rows omitted)</p>"
      ],
      "text/plain": [
       "countrycode | country | currency_unit  | year | rgdpe | rgdpo | pop  | emp  | avh  | hc   | ccon | cda  | cgdpe | cgdpo | cn   | ck   | ctfp | cwtfp | rgdpna | rconna | rdana | rnna | rkna | rtfpna | rwtfpna | labsh | irr  | delta | xr   | pl_con | pl_da | pl_gdpo | i_cig | i_xm | i_xr | i_outlier | i_irr | cor_exp | statcap | csh_c | csh_i | csh_g | csh_x | csh_m | csh_r | pl_c | pl_i | pl_g | pl_x | pl_m | pl_n | pl_k\n",
       "ABW         | Aruba   | Aruban Guilder | 1950 | -1    | -1    | -1   | -1   | -1   | -1   | -1   | -1   | -1    | -1    | -1   | -1   | -1   | -1    | -1     | -1     | -1    | -1   | -1   | -1     | -1      | -1    | -1   | -1    | -1   | -1     | -1    | -1      | -1    | -1   | -1   | -1        | -1    | -1      | -1      | -1    | -1    | -1    | -1    | -1    | -1    | -1   | -1   | -1   | -1   | -1   | -1   | -1\n",
       "ABW         | Aruba   | Aruban Guilder | 1951 | -1    | -1    | -1   | -1   | -1   | -1   | -1   | -1   | -1    | -1    | -1   | -1   | -1   | -1    | -1     | -1     | -1    | -1   | -1   | -1     | -1      | -1    | -1   | -1    | -1   | -1     | -1    | -1      | -1    | -1   | -1   | -1        | -1    | -1      | -1      | -1    | -1    | -1    | -1    | -1    | -1    | -1   | -1   | -1   | -1   | -1   | -1   | -1\n",
       "ABW         | Aruba   | Aruban Guilder | 1952 | -1    | -1    | -1   | -1   | -1   | -1   | -1   | -1   | -1    | -1    | -1   | -1   | -1   | -1    | -1     | -1     | -1    | -1   | -1   | -1     | -1      | -1    | -1   | -1    | -1   | -1     | -1    | -1      | -1    | -1   | -1   | -1        | -1    | -1      | -1      | -1    | -1    | -1    | -1    | -1    | -1    | -1   | -1   | -1   | -1   | -1   | -1   | -1\n",
       "ABW         | Aruba   | Aruban Guilder | 1953 | -1    | -1    | -1   | -1   | -1   | -1   | -1   | -1   | -1    | -1    | -1   | -1   | -1   | -1    | -1     | -1     | -1    | -1   | -1   | -1     | -1      | -1    | -1   | -1    | -1   | -1     | -1    | -1      | -1    | -1   | -1   | -1        | -1    | -1      | -1      | -1    | -1    | -1    | -1    | -1    | -1    | -1   | -1   | -1   | -1   | -1   | -1   | -1\n",
       "ABW         | Aruba   | Aruban Guilder | 1954 | -1    | -1    | -1   | -1   | -1   | -1   | -1   | -1   | -1    | -1    | -1   | -1   | -1   | -1    | -1     | -1     | -1    | -1   | -1   | -1     | -1      | -1    | -1   | -1    | -1   | -1     | -1    | -1      | -1    | -1   | -1   | -1        | -1    | -1      | -1      | -1    | -1    | -1    | -1    | -1    | -1    | -1   | -1   | -1   | -1   | -1   | -1   | -1\n",
       "ABW         | Aruba   | Aruban Guilder | 1955 | -1    | -1    | -1   | -1   | -1   | -1   | -1   | -1   | -1    | -1    | -1   | -1   | -1   | -1    | -1     | -1     | -1    | -1   | -1   | -1     | -1      | -1    | -1   | -1    | -1   | -1     | -1    | -1      | -1    | -1   | -1   | -1        | -1    | -1      | -1      | -1    | -1    | -1    | -1    | -1    | -1    | -1   | -1   | -1   | -1   | -1   | -1   | -1\n",
       "ABW         | Aruba   | Aruban Guilder | 1956 | -1    | -1    | -1   | -1   | -1   | -1   | -1   | -1   | -1    | -1    | -1   | -1   | -1   | -1    | -1     | -1     | -1    | -1   | -1   | -1     | -1      | -1    | -1   | -1    | -1   | -1     | -1    | -1      | -1    | -1   | -1   | -1        | -1    | -1      | -1      | -1    | -1    | -1    | -1    | -1    | -1    | -1   | -1   | -1   | -1   | -1   | -1   | -1\n",
       "ABW         | Aruba   | Aruban Guilder | 1957 | -1    | -1    | -1   | -1   | -1   | -1   | -1   | -1   | -1    | -1    | -1   | -1   | -1   | -1    | -1     | -1     | -1    | -1   | -1   | -1     | -1      | -1    | -1   | -1    | -1   | -1     | -1    | -1      | -1    | -1   | -1   | -1        | -1    | -1      | -1      | -1    | -1    | -1    | -1    | -1    | -1    | -1   | -1   | -1   | -1   | -1   | -1   | -1\n",
       "ABW         | Aruba   | Aruban Guilder | 1958 | -1    | -1    | -1   | -1   | -1   | -1   | -1   | -1   | -1    | -1    | -1   | -1   | -1   | -1    | -1     | -1     | -1    | -1   | -1   | -1     | -1      | -1    | -1   | -1    | -1   | -1     | -1    | -1      | -1    | -1   | -1   | -1        | -1    | -1      | -1      | -1    | -1    | -1    | -1    | -1    | -1    | -1   | -1   | -1   | -1   | -1   | -1   | -1\n",
       "ABW         | Aruba   | Aruban Guilder | 1959 | -1    | -1    | -1   | -1   | -1   | -1   | -1   | -1   | -1    | -1    | -1   | -1   | -1   | -1    | -1     | -1     | -1    | -1   | -1   | -1     | -1      | -1    | -1   | -1    | -1   | -1     | -1    | -1      | -1    | -1   | -1   | -1        | -1    | -1      | -1      | -1    | -1    | -1    | -1    | -1    | -1    | -1   | -1   | -1   | -1   | -1   | -1   | -1\n",
       "... (12800 rows omitted)"
      ]
     },
     "execution_count": 3,
     "metadata": {},
     "output_type": "execute_result"
    }
   ],
   "source": [
    "file_name = \"pwt1001.csv\"\n",
    "data = to_table(file_name)\n",
    "data"
   ]
  },
  {
   "cell_type": "markdown",
   "metadata": {},
   "source": [
    "Notice that there are a lot of `-1` values. This dataset uses `-1` to indicate missing data for a given country-year combination.\n",
    "\n",
    "To get an idea of the dataset's geographic scope, let us find out what countries are included, and if they are spelled in interesting ways. This will be helpful for us later on in our analysis."
   ]
  },
  {
   "cell_type": "markdown",
   "metadata": {
    "deletable": false,
    "editable": false
   },
   "source": [
    "**Question 1.1:** Create a two-column table called `all_countries`. Its first column will be called `Country` and the second `Earliest Year`. It should contain all of the countries that appear in the `data` table sorted in alphabetical order with the earliest year they appear in the dataset where the `cgdpe` column is not `-1`.\n",
    "\n",
    "Hint: You may want to use `where` and `group`. \n"
   ]
  },
  {
   "cell_type": "code",
   "execution_count": 4,
   "metadata": {
    "tags": []
   },
   "outputs": [
    {
     "data": {
      "text/html": [
       "<table border=\"1\" class=\"dataframe\">\n",
       "    <thead>\n",
       "        <tr>\n",
       "            <th>Country</th> <th>Earliest Year</th>\n",
       "        </tr>\n",
       "    </thead>\n",
       "    <tbody>\n",
       "        <tr>\n",
       "            <td>Albania            </td> <td>1970         </td>\n",
       "        </tr>\n",
       "        <tr>\n",
       "            <td>Algeria            </td> <td>1960         </td>\n",
       "        </tr>\n",
       "        <tr>\n",
       "            <td>Angola             </td> <td>1970         </td>\n",
       "        </tr>\n",
       "        <tr>\n",
       "            <td>Anguilla           </td> <td>1970         </td>\n",
       "        </tr>\n",
       "        <tr>\n",
       "            <td>Antigua and Barbuda</td> <td>1970         </td>\n",
       "        </tr>\n",
       "        <tr>\n",
       "            <td>Argentina          </td> <td>1950         </td>\n",
       "        </tr>\n",
       "        <tr>\n",
       "            <td>Armenia            </td> <td>1990         </td>\n",
       "        </tr>\n",
       "        <tr>\n",
       "            <td>Aruba              </td> <td>1970         </td>\n",
       "        </tr>\n",
       "        <tr>\n",
       "            <td>Australia          </td> <td>1950         </td>\n",
       "        </tr>\n",
       "        <tr>\n",
       "            <td>Austria            </td> <td>1950         </td>\n",
       "        </tr>\n",
       "    </tbody>\n",
       "</table>\n",
       "<p>... (173 rows omitted)</p>"
      ],
      "text/plain": [
       "Country             | Earliest Year\n",
       "Albania             | 1970\n",
       "Algeria             | 1960\n",
       "Angola              | 1970\n",
       "Anguilla            | 1970\n",
       "Antigua and Barbuda | 1970\n",
       "Argentina           | 1950\n",
       "Armenia             | 1990\n",
       "Aruba               | 1970\n",
       "Australia           | 1950\n",
       "Austria             | 1950\n",
       "... (173 rows omitted)"
      ]
     },
     "execution_count": 4,
     "metadata": {},
     "output_type": "execute_result"
    }
   ],
   "source": [
    "all_countries = data.where('rgdpe', are.not_equal_to(-1)).group('country', min).select('country', 'year min').relabeled('country', 'Country').relabeled('year min', 'Earliest Year').sort('Country')\n",
    "all_countries"
   ]
  },
  {
   "cell_type": "code",
   "execution_count": 5,
   "metadata": {
    "deletable": false,
    "editable": false
   },
   "outputs": [
    {
     "data": {
      "text/html": [
       "<p><strong><pre style='display: inline;'>q1_1</pre></strong> passed! 🚀</p>"
      ],
      "text/plain": [
       "q1_1 results: All test cases passed!"
      ]
     },
     "execution_count": 5,
     "metadata": {},
     "output_type": "execute_result"
    }
   ],
   "source": [
    "grader.check(\"q1_1\")"
   ]
  },
  {
   "cell_type": "markdown",
   "metadata": {},
   "source": [
    "Take a look at ```data``` again. Notice that it has a lot of columns, most of which we won't need. As we will be using the Cobb-Douglas production function, think about what variables are needed in the equation, and which ones are already present in the table. This is an important part of the data science process: understanding the dataset that you are using. Most real-world datasets provide documentation listing the definitions and equations behind each variable. \n",
    "\n",
    "PWT provides this and has identified three variables that will be helpful to us:\n",
    "1. `cn` $\\Rightarrow$ Capital Stock in millions of USD\n",
    "2. `cgdpe` $\\Rightarrow$ Expenditure-side Real GDP in millions of USD\n",
    "3. `emp` $\\Rightarrow$ Number of Persons employed in millions\n",
    "\n",
    "**An important note: for the sake of simplicity, we will be assuming that nations exhibit constant returns to scale.**"
   ]
  },
  {
   "cell_type": "markdown",
   "metadata": {
    "deletable": false,
    "editable": false
   },
   "source": [
    "**Question 1.2:** Without assuming constant return to scale, the Cobb-Douglous Production Function is given by \n",
    "\n",
    "$$ Y = A K^\\alpha L^\\beta $$\n",
    "\n",
    "Which variable in the Cobb-Douglas function represents the following? Fill in the blanks. \n",
    "\n",
    "- $Y$ measures the dollar value of goods and services produced in a country\n",
    "- \\_\\_ measures total factor productivity: how effectively a country uses its inputs in producing output\n",
    "- \\_\\_ measures the amount of capital in a country\n",
    "- \\_\\_ measures the amount of labor in a country\n",
    "- \\_\\_ measures how much emphasis is placed on capital \n",
    "\n",
    "Assign an array of letters corresponding to your answer to `q1_2` below. For example, `q1_2 = make_array('alpha', 'beta', 'K', 'L')`.\n"
   ]
  },
  {
   "cell_type": "code",
   "execution_count": 6,
   "metadata": {},
   "outputs": [],
   "source": [
    "# Y is 'cgdpe' GIVEN\n",
    "# A is ... 'ctfp'??\n",
    "# K is 'cn' GIVEN\n",
    "# alpha is ...\n",
    "# L is 'emp' GIVEN"
   ]
  },
  {
   "cell_type": "code",
   "execution_count": 7,
   "metadata": {
    "tags": []
   },
   "outputs": [],
   "source": [
    "q1_2 = make_array('A','K','L','alpha')"
   ]
  },
  {
   "cell_type": "code",
   "execution_count": 8,
   "metadata": {
    "deletable": false,
    "editable": false
   },
   "outputs": [
    {
     "data": {
      "text/html": [
       "<p><strong><pre style='display: inline;'>q1_2</pre></strong> passed! 🌟</p>"
      ],
      "text/plain": [
       "q1_2 results: All test cases passed!"
      ]
     },
     "execution_count": 8,
     "metadata": {},
     "output_type": "execute_result"
    }
   ],
   "source": [
    "grader.check(\"q1_2\")"
   ]
  },
  {
   "cell_type": "markdown",
   "metadata": {},
   "source": [
    "**Again, for the remainder of this project, we will assume nations exhibit constant return to scale, unless otherwise specified.**   \n",
    "**That is, we will have**\n",
    "\n",
    "$$ Y = A K^\\alpha L^{1-\\alpha}$$\n",
    "\n"
   ]
  },
  {
   "cell_type": "markdown",
   "metadata": {
    "deletable": false,
    "editable": false
   },
   "source": [
    "**Question 1.3:**\n",
    "Assign the variable <code>missing_variables</code> to an array containing the Cobb-Douglas function variables that are missing from the dataset.\n"
   ]
  },
  {
   "cell_type": "code",
   "execution_count": 9,
   "metadata": {
    "tags": []
   },
   "outputs": [],
   "source": [
    "missing_variables = make_array('alpha', 'A')"
   ]
  },
  {
   "cell_type": "code",
   "execution_count": 10,
   "metadata": {
    "deletable": false,
    "editable": false
   },
   "outputs": [
    {
     "data": {
      "text/html": [
       "<p><strong><pre style='display: inline;'>q1_3</pre></strong> passed! 🎉</p>"
      ],
      "text/plain": [
       "q1_3 results: All test cases passed!"
      ]
     },
     "execution_count": 10,
     "metadata": {},
     "output_type": "execute_result"
    }
   ],
   "source": [
    "grader.check(\"q1_3\")"
   ]
  },
  {
   "cell_type": "markdown",
   "metadata": {
    "deletable": false,
    "editable": false
   },
   "source": [
    "**Question 1.4:**\n",
    "Remove all columns from `data` except for `cn`, `cgdpe`, `emp`, `country` and `year`. Ensure that `country` and `year` are the two left-most columns respectively. Call the new table `cleaned_data` and display its first five rows. Rename the `cn` column to `Capital Stock`, `cgdpe` to `Real GDP` and `emp` to `Labor Force`.\n"
   ]
  },
  {
   "cell_type": "code",
   "execution_count": 11,
   "metadata": {
    "tags": []
   },
   "outputs": [
    {
     "data": {
      "text/html": [
       "<table border=\"1\" class=\"dataframe\">\n",
       "    <thead>\n",
       "        <tr>\n",
       "            <th>country</th> <th>year</th> <th>Capital Stock</th> <th>Real GDP</th> <th>Labor Force</th>\n",
       "        </tr>\n",
       "    </thead>\n",
       "    <tbody>\n",
       "        <tr>\n",
       "            <td>Aruba  </td> <td>1950</td> <td>-1           </td> <td>-1      </td> <td>-1         </td>\n",
       "        </tr>\n",
       "        <tr>\n",
       "            <td>Aruba  </td> <td>1951</td> <td>-1           </td> <td>-1      </td> <td>-1         </td>\n",
       "        </tr>\n",
       "        <tr>\n",
       "            <td>Aruba  </td> <td>1952</td> <td>-1           </td> <td>-1      </td> <td>-1         </td>\n",
       "        </tr>\n",
       "        <tr>\n",
       "            <td>Aruba  </td> <td>1953</td> <td>-1           </td> <td>-1      </td> <td>-1         </td>\n",
       "        </tr>\n",
       "        <tr>\n",
       "            <td>Aruba  </td> <td>1954</td> <td>-1           </td> <td>-1      </td> <td>-1         </td>\n",
       "        </tr>\n",
       "    </tbody>\n",
       "</table>\n",
       "<p>... (12805 rows omitted)</p>"
      ],
      "text/plain": [
       "<IPython.core.display.HTML object>"
      ]
     },
     "metadata": {},
     "output_type": "display_data"
    }
   ],
   "source": [
    "cleaned_data = data.select( 'country', 'year', 'cn', 'cgdpe', 'emp').relabeled('cn', 'Capital Stock').relabeled('cgdpe', 'Real GDP').relabeled('emp', 'Labor Force')\n",
    "cleaned_data.show(5)"
   ]
  },
  {
   "cell_type": "code",
   "execution_count": 12,
   "metadata": {
    "deletable": false,
    "editable": false
   },
   "outputs": [
    {
     "data": {
      "text/html": [
       "<p><strong><pre style='display: inline;'>q1_4</pre></strong> passed! 💯</p>"
      ],
      "text/plain": [
       "q1_4 results: All test cases passed!"
      ]
     },
     "execution_count": 12,
     "metadata": {},
     "output_type": "execute_result"
    }
   ],
   "source": [
    "grader.check(\"q1_4\")"
   ]
  },
  {
   "cell_type": "markdown",
   "metadata": {},
   "source": [
    "Our goal will be to predict what $\\alpha$ and $A$ are for each of the countries that we will be examining. From these, we will be able to explore how output is produced in each of these countries. The question is, how can we use the Cobb-Douglas Production function to solve for the missing variables? An easy way would be to take the natural log of the equation, making it linear, providing us with ways to quantify $\\alpha$ and $A$."
   ]
  },
  {
   "cell_type": "markdown",
   "metadata": {
    "deletable": false,
    "editable": false
   },
   "source": [
    "<!-- BEGIN QUESTION -->\n",
    "\n",
    "**Question 1.5:**\n",
    "In the cell below, using LaTeX, take the natural log of the Cobb-Douglas Production Function and rewrite it as a **linear function** of one variable. Show all of your work. Full credit will not be given if you just display the final simplified equation without showing any work.\n",
    "\n",
    "_Hint:_ Begin by taking natural log of both sides of the Cobb-Douglas Production Function, that is $\\ln{Y} = \\ln{(A K^\\alpha L^{1-\\alpha})}. $\n",
    "\n",
    "Note: We do not officially cover LaTeX till Week 6: Utility, so if you are completing this project prior to that lecture, feel free to either skip this question and come back to it later, or learn something new!\n"
   ]
  },
  {
   "cell_type": "markdown",
   "metadata": {},
   "source": [
    "$$\n",
    "\\begin{align*}\n",
    "Y &= (AK^{\\alpha}L^{1-\\alpha}) \\\\\n",
    "\\ln (Y) &= \\ln (AK^{\\alpha}L^{1-\\alpha}) \\\\\n",
    "\\ln (Y) &= \\ln (A) + \\alpha \\ln (K) + ({1-\\alpha}) \\ln (L) \\\\\n",
    "\\ln (Y) - \\ln (L) &= \\ln (A) + \\alpha \\ln (K) + \\ln (L) - \\alpha \\ln (L) - \\ln (L) \\\\\n",
    "\\ln \\left(\\frac{Y}{L}\\right) &= \\ln (A) + \\alpha \\ln (K) - \\alpha \\ln (L) \\\\\n",
    "\\ln \\left(\\frac{Y}{L}\\right) &= \\ln (A) + \\alpha \\ln \\left(\\frac{K}{L}\\right) \\\\\n",
    "\\end{align*}\n",
    "$$"
   ]
  },
  {
   "cell_type": "markdown",
   "metadata": {
    "deletable": false,
    "editable": false
   },
   "source": [
    "<!-- END QUESTION -->\n",
    "\n",
    "## Part 2: Exploring the Data"
   ]
  },
  {
   "cell_type": "markdown",
   "metadata": {},
   "source": [
    "Whenever we are dealing with a large dataset like PWT, it is a good idea to see how the variables interact with each other. A common method, especially when dealing with economic data, is to generate a time series. This is a plot of some variable on the $y$-axis and time on the $x$-axis. We are going to do just that for our important Cobb-Douglas variables for different countries."
   ]
  },
  {
   "cell_type": "code",
   "execution_count": 13,
   "metadata": {},
   "outputs": [
    {
     "data": {
      "text/plain": [
       "array(['Albania', 'Algeria', 'Angola', 'Anguilla', 'Antigua and Barbuda',\n",
       "       'Argentina', 'Armenia', 'Aruba', 'Australia', 'Austria',\n",
       "       'Azerbaijan', 'Bahamas', 'Bahrain', 'Bangladesh', 'Barbados',\n",
       "       'Belarus', 'Belgium', 'Belize', 'Benin', 'Bermuda', 'Bhutan',\n",
       "       'Bolivia (Plurinational State of)', 'Bosnia and Herzegovina',\n",
       "       'Botswana', 'Brazil', 'British Virgin Islands', 'Brunei Darussalam',\n",
       "       'Bulgaria', 'Burkina Faso', 'Burundi', 'Cabo Verde', 'Cambodia',\n",
       "       'Cameroon', 'Canada', 'Cayman Islands', 'Central African Republic',\n",
       "       'Chad', 'Chile', 'China', 'China, Hong Kong SAR',\n",
       "       'China, Macao SAR', 'Colombia', 'Comoros', 'Congo', 'Costa Rica',\n",
       "       'Croatia', 'Curaçao', 'Cyprus', 'Czech Republic', \"Côte d'Ivoire\",\n",
       "       'D.R. of the Congo', 'Denmark', 'Djibouti', 'Dominica',\n",
       "       'Dominican Republic', 'Ecuador', 'Egypt', 'El Salvador',\n",
       "       'Equatorial Guinea', 'Estonia', 'Eswatini', 'Ethiopia', 'Fiji',\n",
       "       'Finland', 'France', 'Gabon', 'Gambia', 'Georgia', 'Germany',\n",
       "       'Ghana', 'Greece', 'Grenada', 'Guatemala', 'Guinea',\n",
       "       'Guinea-Bissau', 'Guyana', 'Haiti', 'Honduras', 'Hungary',\n",
       "       'Iceland', 'India', 'Indonesia', 'Iran (Islamic Republic of)',\n",
       "       'Iraq', 'Ireland', 'Israel', 'Italy', 'Jamaica', 'Japan', 'Jordan',\n",
       "       'Kazakhstan', 'Kenya', 'Kuwait', 'Kyrgyzstan', \"Lao People's DR\",\n",
       "       'Latvia', 'Lebanon', 'Lesotho', 'Liberia', 'Lithuania',\n",
       "       'Luxembourg', 'Madagascar', 'Malawi', 'Malaysia', 'Maldives',\n",
       "       'Mali', 'Malta', 'Mauritania', 'Mauritius', 'Mexico', 'Mongolia',\n",
       "       'Montenegro', 'Montserrat', 'Morocco', 'Mozambique', 'Myanmar',\n",
       "       'Namibia', 'Nepal', 'Netherlands', 'New Zealand', 'Nicaragua',\n",
       "       'Niger', 'Nigeria', 'North Macedonia', 'Norway', 'Oman', 'Pakistan',\n",
       "       'Panama', 'Paraguay', 'Peru', 'Philippines', 'Poland', 'Portugal',\n",
       "       'Qatar', 'Republic of Korea', 'Republic of Moldova', 'Romania',\n",
       "       'Russian Federation', 'Rwanda', 'Saint Kitts and Nevis',\n",
       "       'Saint Lucia', 'Sao Tome and Principe', 'Saudi Arabia', 'Senegal',\n",
       "       'Serbia', 'Seychelles', 'Sierra Leone', 'Singapore',\n",
       "       'Sint Maarten (Dutch part)', 'Slovakia', 'Slovenia', 'South Africa',\n",
       "       'Spain', 'Sri Lanka', 'St. Vincent and the Grenadines',\n",
       "       'State of Palestine', 'Sudan', 'Suriname', 'Sweden', 'Switzerland',\n",
       "       'Syrian Arab Republic', 'Taiwan', 'Tajikistan', 'Thailand', 'Togo',\n",
       "       'Trinidad and Tobago', 'Tunisia', 'Turkey', 'Turkmenistan',\n",
       "       'Turks and Caicos Islands', 'U.R. of Tanzania: Mainland', 'Uganda',\n",
       "       'Ukraine', 'United Arab Emirates', 'United Kingdom',\n",
       "       'United States', 'Uruguay', 'Uzbekistan',\n",
       "       'Venezuela (Bolivarian Republic of)', 'Viet Nam', 'Yemen', 'Zambia',\n",
       "       'Zimbabwe'],\n",
       "      dtype='<U34')"
      ]
     },
     "execution_count": 13,
     "metadata": {},
     "output_type": "execute_result"
    }
   ],
   "source": [
    "# Run this cell to see a table of all the countries in the dataset.\n",
    "# Select two countries and proceed to the next code question.\n",
    "all_countries[\"Country\"]"
   ]
  },
  {
   "cell_type": "markdown",
   "metadata": {
    "deletable": false,
    "editable": false
   },
   "source": [
    "**Question 2.1:**\n",
    "1. Create an array of four countries, the US, China, and two of your choice from the list above (though not Canada or Mexico), in **alphabetical order** and call this `country_array`.\n",
    "2. Using this array, construct `comparison_data`, a table containing GDP, Capital Stock and Labor for these four countries in `country_array` from 1990 to 2019. \n",
    "\n",
    "_Use the cell above to check if your countries of choice exist in the dataset._ Make sure to use the country name exactly as it appears in the data table.\n",
    "\n",
    "_Hint:_ Look at the <a href=\"https://ds-connectors.github.io/econ-fa20/python-reference.html\">Python Reference</a> for a table function you can use.\n"
   ]
  },
  {
   "cell_type": "code",
   "execution_count": 14,
   "metadata": {
    "tags": []
   },
   "outputs": [
    {
     "data": {
      "text/html": [
       "<table border=\"1\" class=\"dataframe\">\n",
       "    <thead>\n",
       "        <tr>\n",
       "            <th>country</th> <th>year</th> <th>Capital Stock</th> <th>Real GDP</th> <th>Labor Force</th>\n",
       "        </tr>\n",
       "    </thead>\n",
       "    <tbody>\n",
       "        <tr>\n",
       "            <td>China        </td> <td>1990</td> <td>4.76376e+06  </td> <td>2.96752e+06</td> <td>660        </td>\n",
       "        </tr>\n",
       "        <tr>\n",
       "            <td>China        </td> <td>1991</td> <td>5.05137e+06  </td> <td>3.12739e+06</td> <td>676        </td>\n",
       "        </tr>\n",
       "        <tr>\n",
       "            <td>China        </td> <td>1992</td> <td>5.50687e+06  </td> <td>3.37258e+06</td> <td>683        </td>\n",
       "        </tr>\n",
       "        <tr>\n",
       "            <td>China        </td> <td>1993</td> <td>6.1793e+06   </td> <td>3.61229e+06</td> <td>689        </td>\n",
       "        </tr>\n",
       "        <tr>\n",
       "            <td>China        </td> <td>1994</td> <td>6.91171e+06  </td> <td>3.94591e+06</td> <td>694        </td>\n",
       "        </tr>\n",
       "        <tr>\n",
       "            <td>China        </td> <td>1995</td> <td>7.7044e+06   </td> <td>4.34385e+06</td> <td>699        </td>\n",
       "        </tr>\n",
       "        <tr>\n",
       "            <td>China        </td> <td>1996</td> <td>8.57896e+06  </td> <td>4.63467e+06</td> <td>706        </td>\n",
       "        </tr>\n",
       "        <tr>\n",
       "            <td>China        </td> <td>1997</td> <td>9.51087e+06  </td> <td>4.87596e+06</td> <td>713        </td>\n",
       "        </tr>\n",
       "        <tr>\n",
       "            <td>China        </td> <td>1998</td> <td>1.06504e+07  </td> <td>4.87638e+06</td> <td>721        </td>\n",
       "        </tr>\n",
       "        <tr>\n",
       "            <td>China        </td> <td>1999</td> <td>1.18116e+07  </td> <td>5.13595e+06</td> <td>729        </td>\n",
       "        </tr>\n",
       "        <tr>\n",
       "            <td>China        </td> <td>2000</td> <td>1.30345e+07  </td> <td>5.54311e+06</td> <td>736        </td>\n",
       "        </tr>\n",
       "        <tr>\n",
       "            <td>China        </td> <td>2001</td> <td>1.45059e+07  </td> <td>6.0589e+06 </td> <td>743        </td>\n",
       "        </tr>\n",
       "        <tr>\n",
       "            <td>China        </td> <td>2002</td> <td>1.6249e+07   </td> <td>6.68921e+06</td> <td>749        </td>\n",
       "        </tr>\n",
       "        <tr>\n",
       "            <td>China        </td> <td>2003</td> <td>1.83878e+07  </td> <td>7.30266e+06</td> <td>754        </td>\n",
       "        </tr>\n",
       "        <tr>\n",
       "            <td>China        </td> <td>2004</td> <td>2.08458e+07  </td> <td>8.18829e+06</td> <td>759        </td>\n",
       "        </tr>\n",
       "        <tr>\n",
       "            <td>China        </td> <td>2005</td> <td>2.36842e+07  </td> <td>9.27625e+06</td> <td>763        </td>\n",
       "        </tr>\n",
       "        <tr>\n",
       "            <td>China        </td> <td>2006</td> <td>2.71264e+07  </td> <td>1.02092e+07</td> <td>767        </td>\n",
       "        </tr>\n",
       "        <tr>\n",
       "            <td>China        </td> <td>2007</td> <td>3.13536e+07  </td> <td>1.11822e+07</td> <td>771        </td>\n",
       "        </tr>\n",
       "        <tr>\n",
       "            <td>China        </td> <td>2008</td> <td>3.64387e+07  </td> <td>1.17769e+07</td> <td>774        </td>\n",
       "        </tr>\n",
       "        <tr>\n",
       "            <td>China        </td> <td>2009</td> <td>4.29337e+07  </td> <td>1.26276e+07</td> <td>778        </td>\n",
       "        </tr>\n",
       "        <tr>\n",
       "            <td>China        </td> <td>2010</td> <td>4.99738e+07  </td> <td>1.41551e+07</td> <td>781        </td>\n",
       "        </tr>\n",
       "        <tr>\n",
       "            <td>China        </td> <td>2011</td> <td>5.64989e+07  </td> <td>1.51239e+07</td> <td>785        </td>\n",
       "        </tr>\n",
       "        <tr>\n",
       "            <td>China        </td> <td>2012</td> <td>6.12489e+07  </td> <td>1.62338e+07</td> <td>788        </td>\n",
       "        </tr>\n",
       "        <tr>\n",
       "            <td>China        </td> <td>2013</td> <td>6.62249e+07  </td> <td>1.67073e+07</td> <td>792        </td>\n",
       "        </tr>\n",
       "        <tr>\n",
       "            <td>China        </td> <td>2014</td> <td>7.08227e+07  </td> <td>1.7332e+07 </td> <td>795        </td>\n",
       "        </tr>\n",
       "        <tr>\n",
       "            <td>China        </td> <td>2015</td> <td>7.37374e+07  </td> <td>1.79106e+07</td> <td>797        </td>\n",
       "        </tr>\n",
       "        <tr>\n",
       "            <td>China        </td> <td>2016</td> <td>7.84113e+07  </td> <td>1.85456e+07</td> <td>799        </td>\n",
       "        </tr>\n",
       "        <tr>\n",
       "            <td>China        </td> <td>2017</td> <td>8.33492e+07  </td> <td>1.95011e+07</td> <td>799        </td>\n",
       "        </tr>\n",
       "        <tr>\n",
       "            <td>China        </td> <td>2018</td> <td>9.11263e+07  </td> <td>1.94392e+07</td> <td>799        </td>\n",
       "        </tr>\n",
       "        <tr>\n",
       "            <td>China        </td> <td>2019</td> <td>9.94621e+07  </td> <td>1.9919e+07 </td> <td>799        </td>\n",
       "        </tr>\n",
       "        <tr>\n",
       "            <td>Ireland      </td> <td>1990</td> <td>220680       </td> <td>70778      </td> <td>1          </td>\n",
       "        </tr>\n",
       "        <tr>\n",
       "            <td>Ireland      </td> <td>1991</td> <td>241863       </td> <td>71862      </td> <td>1          </td>\n",
       "        </tr>\n",
       "        <tr>\n",
       "            <td>Ireland      </td> <td>1992</td> <td>265253       </td> <td>74311      </td> <td>1          </td>\n",
       "        </tr>\n",
       "        <tr>\n",
       "            <td>Ireland      </td> <td>1993</td> <td>287712       </td> <td>78335      </td> <td>1          </td>\n",
       "        </tr>\n",
       "        <tr>\n",
       "            <td>Ireland      </td> <td>1994</td> <td>309642       </td> <td>83286      </td> <td>1          </td>\n",
       "        </tr>\n",
       "        <tr>\n",
       "            <td>Ireland      </td> <td>1995</td> <td>327446       </td> <td>93682      </td> <td>1          </td>\n",
       "        </tr>\n",
       "        <tr>\n",
       "            <td>Ireland      </td> <td>1996</td> <td>343550       </td> <td>100853     </td> <td>1          </td>\n",
       "        </tr>\n",
       "        <tr>\n",
       "            <td>Ireland      </td> <td>1997</td> <td>347978       </td> <td>113514     </td> <td>1          </td>\n",
       "        </tr>\n",
       "        <tr>\n",
       "            <td>Ireland      </td> <td>1998</td> <td>361434       </td> <td>127835     </td> <td>2          </td>\n",
       "        </tr>\n",
       "        <tr>\n",
       "            <td>Ireland      </td> <td>1999</td> <td>374101       </td> <td>138786     </td> <td>2          </td>\n",
       "        </tr>\n",
       "        <tr>\n",
       "            <td>Ireland      </td> <td>2000</td> <td>383262       </td> <td>151952     </td> <td>2          </td>\n",
       "        </tr>\n",
       "        <tr>\n",
       "            <td>Ireland      </td> <td>2001</td> <td>401311       </td> <td>160964     </td> <td>2          </td>\n",
       "        </tr>\n",
       "        <tr>\n",
       "            <td>Ireland      </td> <td>2002</td> <td>429169       </td> <td>171115     </td> <td>2          </td>\n",
       "        </tr>\n",
       "        <tr>\n",
       "            <td>Ireland      </td> <td>2003</td> <td>451079       </td> <td>176009     </td> <td>2          </td>\n",
       "        </tr>\n",
       "        <tr>\n",
       "            <td>Ireland      </td> <td>2004</td> <td>495199       </td> <td>185261     </td> <td>2          </td>\n",
       "        </tr>\n",
       "        <tr>\n",
       "            <td>Ireland      </td> <td>2005</td> <td>525759       </td> <td>202448     </td> <td>2          </td>\n",
       "        </tr>\n",
       "        <tr>\n",
       "            <td>Ireland      </td> <td>2006</td> <td>695719       </td> <td>222593     </td> <td>2          </td>\n",
       "        </tr>\n",
       "        <tr>\n",
       "            <td>Ireland      </td> <td>2007</td> <td>862037       </td> <td>241541     </td> <td>2          </td>\n",
       "        </tr>\n",
       "        <tr>\n",
       "            <td>Ireland      </td> <td>2008</td> <td>887347       </td> <td>228280     </td> <td>2          </td>\n",
       "        </tr>\n",
       "        <tr>\n",
       "            <td>Ireland      </td> <td>2009</td> <td>873540       </td> <td>212523     </td> <td>2          </td>\n",
       "        </tr>\n",
       "        <tr>\n",
       "            <td>Ireland      </td> <td>2010</td> <td>1.01587e+06  </td> <td>220665     </td> <td>2          </td>\n",
       "        </tr>\n",
       "        <tr>\n",
       "            <td>Ireland      </td> <td>2011</td> <td>1.07175e+06  </td> <td>228280     </td> <td>2          </td>\n",
       "        </tr>\n",
       "        <tr>\n",
       "            <td>Ireland      </td> <td>2012</td> <td>1.13001e+06  </td> <td>239986     </td> <td>2          </td>\n",
       "        </tr>\n",
       "        <tr>\n",
       "            <td>Ireland      </td> <td>2013</td> <td>1.1812e+06   </td> <td>236847     </td> <td>2          </td>\n",
       "        </tr>\n",
       "        <tr>\n",
       "            <td>Ireland      </td> <td>2014</td> <td>1.22332e+06  </td> <td>254485     </td> <td>2          </td>\n",
       "        </tr>\n",
       "        <tr>\n",
       "            <td>Ireland      </td> <td>2015</td> <td>1.26307e+06  </td> <td>353144     </td> <td>2          </td>\n",
       "        </tr>\n",
       "        <tr>\n",
       "            <td>Ireland      </td> <td>2016</td> <td>1.44372e+06  </td> <td>380435     </td> <td>2          </td>\n",
       "        </tr>\n",
       "        <tr>\n",
       "            <td>Ireland      </td> <td>2017</td> <td>1.51615e+06  </td> <td>409848     </td> <td>2          </td>\n",
       "        </tr>\n",
       "        <tr>\n",
       "            <td>Ireland      </td> <td>2018</td> <td>1.58853e+06  </td> <td>433610     </td> <td>2          </td>\n",
       "        </tr>\n",
       "        <tr>\n",
       "            <td>Ireland      </td> <td>2019</td> <td>1.80556e+06  </td> <td>496191     </td> <td>2          </td>\n",
       "        </tr>\n",
       "        <tr>\n",
       "            <td>United States</td> <td>1990</td> <td>3.8181e+07   </td> <td>1.01044e+07</td> <td>123        </td>\n",
       "        </tr>\n",
       "        <tr>\n",
       "            <td>United States</td> <td>1991</td> <td>3.89434e+07  </td> <td>1.00835e+07</td> <td>122        </td>\n",
       "        </tr>\n",
       "        <tr>\n",
       "            <td>United States</td> <td>1992</td> <td>3.97494e+07  </td> <td>1.04538e+07</td> <td>122        </td>\n",
       "        </tr>\n",
       "        <tr>\n",
       "            <td>United States</td> <td>1993</td> <td>4.06192e+07  </td> <td>1.07749e+07</td> <td>123        </td>\n",
       "        </tr>\n",
       "        <tr>\n",
       "            <td>United States</td> <td>1994</td> <td>4.15767e+07  </td> <td>1.11788e+07</td> <td>126        </td>\n",
       "        </tr>\n",
       "        <tr>\n",
       "            <td>United States</td> <td>1995</td> <td>4.25889e+07  </td> <td>1.14675e+07</td> <td>127        </td>\n",
       "        </tr>\n",
       "        <tr>\n",
       "            <td>United States</td> <td>1996</td> <td>4.37153e+07  </td> <td>1.19033e+07</td> <td>129        </td>\n",
       "        </tr>\n",
       "        <tr>\n",
       "            <td>United States</td> <td>1997</td> <td>4.49346e+07  </td> <td>1.24334e+07</td> <td>132        </td>\n",
       "        </tr>\n",
       "        <tr>\n",
       "            <td>United States</td> <td>1998</td> <td>4.63035e+07  </td> <td>1.2987e+07 </td> <td>135        </td>\n",
       "        </tr>\n",
       "        <tr>\n",
       "            <td>United States</td> <td>1999</td> <td>4.77875e+07  </td> <td>1.36247e+07</td> <td>137        </td>\n",
       "        </tr>\n",
       "        <tr>\n",
       "            <td>United States</td> <td>2000</td> <td>4.93291e+07  </td> <td>1.41976e+07</td> <td>139        </td>\n",
       "        </tr>\n",
       "        <tr>\n",
       "            <td>United States</td> <td>2001</td> <td>5.06967e+07  </td> <td>1.43967e+07</td> <td>139        </td>\n",
       "        </tr>\n",
       "        <tr>\n",
       "            <td>United States</td> <td>2002</td> <td>5.18888e+07  </td> <td>1.47001e+07</td> <td>138        </td>\n",
       "        </tr>\n",
       "        <tr>\n",
       "            <td>United States</td> <td>2003</td> <td>5.31479e+07  </td> <td>1.50904e+07</td> <td>139        </td>\n",
       "        </tr>\n",
       "        <tr>\n",
       "            <td>United States</td> <td>2004</td> <td>5.45367e+07  </td> <td>1.56528e+07</td> <td>140        </td>\n",
       "        </tr>\n",
       "        <tr>\n",
       "            <td>United States</td> <td>2005</td> <td>5.60489e+07  </td> <td>1.64158e+07</td> <td>142        </td>\n",
       "        </tr>\n",
       "        <tr>\n",
       "            <td>United States</td> <td>2006</td> <td>5.75399e+07  </td> <td>1.67506e+07</td> <td>145        </td>\n",
       "        </tr>\n",
       "        <tr>\n",
       "            <td>United States</td> <td>2007</td> <td>5.88822e+07  </td> <td>1.69857e+07</td> <td>146        </td>\n",
       "        </tr>\n",
       "        <tr>\n",
       "            <td>United States</td> <td>2008</td> <td>5.9952e+07   </td> <td>1.68503e+07</td> <td>146        </td>\n",
       "        </tr>\n",
       "        <tr>\n",
       "            <td>United States</td> <td>2009</td> <td>6.04868e+07  </td> <td>1.64054e+07</td> <td>141        </td>\n",
       "        </tr>\n",
       "        <tr>\n",
       "            <td>United States</td> <td>2010</td> <td>6.10353e+07  </td> <td>1.68439e+07</td> <td>141        </td>\n",
       "        </tr>\n",
       "        <tr>\n",
       "            <td>United States</td> <td>2011</td> <td>6.16571e+07  </td> <td>1.71409e+07</td> <td>142        </td>\n",
       "        </tr>\n",
       "        <tr>\n",
       "            <td>United States</td> <td>2012</td> <td>6.24244e+07  </td> <td>1.754e+07  </td> <td>145        </td>\n",
       "        </tr>\n",
       "        <tr>\n",
       "            <td>United States</td> <td>2013</td> <td>6.32251e+07  </td> <td>1.78381e+07</td> <td>146        </td>\n",
       "        </tr>\n",
       "        <tr>\n",
       "            <td>United States</td> <td>2014</td> <td>6.41185e+07  </td> <td>1.8332e+07 </td> <td>148        </td>\n",
       "        </tr>\n",
       "        <tr>\n",
       "            <td>United States</td> <td>2015</td> <td>6.50535e+07  </td> <td>1.89274e+07</td> <td>150        </td>\n",
       "        </tr>\n",
       "        <tr>\n",
       "            <td>United States</td> <td>2016</td> <td>6.59713e+07  </td> <td>1.92413e+07</td> <td>152        </td>\n",
       "        </tr>\n",
       "        <tr>\n",
       "            <td>United States</td> <td>2017</td> <td>6.69403e+07  </td> <td>1.97548e+07</td> <td>155        </td>\n",
       "        </tr>\n",
       "        <tr>\n",
       "            <td>United States</td> <td>2018</td> <td>6.80057e+07  </td> <td>2.03332e+07</td> <td>157        </td>\n",
       "        </tr>\n",
       "        <tr>\n",
       "            <td>United States</td> <td>2019</td> <td>6.90595e+07  </td> <td>2.07914e+07</td> <td>158        </td>\n",
       "        </tr>\n",
       "        <tr>\n",
       "            <td>South Africa </td> <td>1990</td> <td>861323       </td> <td>337128     </td> <td>12         </td>\n",
       "        </tr>\n",
       "        <tr>\n",
       "            <td>South Africa </td> <td>1991</td> <td>867267       </td> <td>336188     </td> <td>12         </td>\n",
       "        </tr>\n",
       "        <tr>\n",
       "            <td>South Africa </td> <td>1992</td> <td>872101       </td> <td>333913     </td> <td>12         </td>\n",
       "        </tr>\n",
       "        <tr>\n",
       "            <td>South Africa </td> <td>1993</td> <td>877258       </td> <td>344254     </td> <td>12         </td>\n",
       "        </tr>\n",
       "        <tr>\n",
       "            <td>South Africa </td> <td>1994</td> <td>886926       </td> <td>355466     </td> <td>13         </td>\n",
       "        </tr>\n",
       "        <tr>\n",
       "            <td>South Africa </td> <td>1995</td> <td>899387       </td> <td>373366     </td> <td>13         </td>\n",
       "        </tr>\n",
       "        <tr>\n",
       "            <td>South Africa </td> <td>1996</td> <td>915847       </td> <td>388215     </td> <td>13         </td>\n",
       "        </tr>\n",
       "        <tr>\n",
       "            <td>South Africa </td> <td>1997</td> <td>934556       </td> <td>396346     </td> <td>13         </td>\n",
       "        </tr>\n",
       "        <tr>\n",
       "            <td>South Africa </td> <td>1998</td> <td>957380       </td> <td>398239     </td> <td>13         </td>\n",
       "        </tr>\n",
       "        <tr>\n",
       "            <td>South Africa </td> <td>1999</td> <td>970903       </td> <td>408136     </td> <td>14         </td>\n",
       "        </tr>\n",
       "        <tr>\n",
       "            <td>South Africa </td> <td>2000</td> <td>983929       </td> <td>428936     </td> <td>14         </td>\n",
       "        </tr>\n",
       "        <tr>\n",
       "            <td>South Africa </td> <td>2001</td> <td>1.00293e+06  </td> <td>446313     </td> <td>13         </td>\n",
       "        </tr>\n",
       "        <tr>\n",
       "            <td>South Africa </td> <td>2002</td> <td>1.02516e+06  </td> <td>466710     </td> <td>14         </td>\n",
       "        </tr>\n",
       "        <tr>\n",
       "            <td>South Africa </td> <td>2003</td> <td>1.05234e+06  </td> <td>481438     </td> <td>14         </td>\n",
       "        </tr>\n",
       "        <tr>\n",
       "            <td>South Africa </td> <td>2004</td> <td>1.08823e+06  </td> <td>504649     </td> <td>14         </td>\n",
       "        </tr>\n",
       "        <tr>\n",
       "            <td>South Africa </td> <td>2005</td> <td>1.1318e+06   </td> <td>542820     </td> <td>14         </td>\n",
       "        </tr>\n",
       "        <tr>\n",
       "            <td>South Africa </td> <td>2006</td> <td>1.21656e+06  </td> <td>583635     </td> <td>16         </td>\n",
       "        </tr>\n",
       "        <tr>\n",
       "            <td>South Africa </td> <td>2007</td> <td>1.37719e+06  </td> <td>618972     </td> <td>16         </td>\n",
       "        </tr>\n",
       "        <tr>\n",
       "            <td>South Africa </td> <td>2008</td> <td>1.62543e+06  </td> <td>634290     </td> <td>16         </td>\n",
       "        </tr>\n",
       "        <tr>\n",
       "            <td>South Africa </td> <td>2009</td> <td>1.93848e+06  </td> <td>626159     </td> <td>16         </td>\n",
       "        </tr>\n",
       "        <tr>\n",
       "            <td>South Africa </td> <td>2010</td> <td>2.27231e+06  </td> <td>657505     </td> <td>16         </td>\n",
       "        </tr>\n",
       "        <tr>\n",
       "            <td>South Africa </td> <td>2011</td> <td>2.49234e+06  </td> <td>695669     </td> <td>16         </td>\n",
       "        </tr>\n",
       "        <tr>\n",
       "            <td>South Africa </td> <td>2012</td> <td>2.50929e+06  </td> <td>696869     </td> <td>17         </td>\n",
       "        </tr>\n",
       "        <tr>\n",
       "            <td>South Africa </td> <td>2013</td> <td>2.57064e+06  </td> <td>701311     </td> <td>17         </td>\n",
       "        </tr>\n",
       "        <tr>\n",
       "            <td>South Africa </td> <td>2014</td> <td>2.63189e+06  </td> <td>703924     </td> <td>17         </td>\n",
       "        </tr>\n",
       "        <tr>\n",
       "            <td>South Africa </td> <td>2015</td> <td>2.66012e+06  </td> <td>713510     </td> <td>18         </td>\n",
       "        </tr>\n",
       "        <tr>\n",
       "            <td>South Africa </td> <td>2016</td> <td>2.68338e+06  </td> <td>718710     </td> <td>18         </td>\n",
       "        </tr>\n",
       "        <tr>\n",
       "            <td>South Africa </td> <td>2017</td> <td>2.70889e+06  </td> <td>738073     </td> <td>18         </td>\n",
       "        </tr>\n",
       "        <tr>\n",
       "            <td>South Africa </td> <td>2018</td> <td>2.76209e+06  </td> <td>742983     </td> <td>19         </td>\n",
       "        </tr>\n",
       "        <tr>\n",
       "            <td>South Africa </td> <td>2019</td> <td>2.81688e+06  </td> <td>748246     </td> <td>19         </td>\n",
       "        </tr>\n",
       "    </tbody>\n",
       "</table>"
      ],
      "text/plain": [
       "<IPython.core.display.HTML object>"
      ]
     },
     "metadata": {},
     "output_type": "display_data"
    }
   ],
   "source": [
    "country_array = make_array(\"China\", \"Ireland\", \"South Africa\", \"United States\")\n",
    "comparison_data = cleaned_data.where('year', are.between_or_equal_to(1990, 2019)).where('country', are.contained_in(country_array))\n",
    "comparison_data.show(120)"
   ]
  },
  {
   "cell_type": "code",
   "execution_count": 15,
   "metadata": {
    "deletable": false,
    "editable": false
   },
   "outputs": [
    {
     "data": {
      "text/html": [
       "<p><strong><pre style='display: inline;'>q2_1</pre></strong> passed! 🌈</p>"
      ],
      "text/plain": [
       "q2_1 results: All test cases passed!"
      ]
     },
     "execution_count": 15,
     "metadata": {},
     "output_type": "execute_result"
    }
   ],
   "source": [
    "grader.check(\"q2_1\")"
   ]
  },
  {
   "cell_type": "markdown",
   "metadata": {},
   "source": [
    "**Note:** If you ever need to refer to a list of the countries you selected in your code, do **not** use `country_array`. When you place the data in `comparison_data`, Python will automatically re-order the countries. Using `country_array` will cause a mis-match between your rows of data in `comparison_data` and the country it is actually from."
   ]
  },
  {
   "cell_type": "markdown",
   "metadata": {
    "deletable": false,
    "editable": false
   },
   "source": [
    "<!-- BEGIN QUESTION -->\n",
    "\n",
    "**Question 2.2:**\n",
    "To help us in later questions, fill in the blanks in the `country_table_plotter` function below. Its inputs will be a table of the form `comparison_data` and the names of the two columns plotted, `columnX` and `columnY`. The `country_table_plotter` function will plot `columnX` versus `columnY` using data from `data_table` for all the countries \n",
    "\n",
    "_Hint:_ Look at the <a href=\"https://matplotlib.org/3.1.1/api/_as_gen/matplotlib.pyplot.plot.html\"> Matplotlib Plotting Reference</a> for ideas of what to place in the blanks.\n"
   ]
  },
  {
   "cell_type": "code",
   "execution_count": 16,
   "metadata": {
    "tags": []
   },
   "outputs": [],
   "source": [
    "def country_table_plotter(data_table, columnX, columnY):\n",
    "    \n",
    "    countries = data_table.group('country').column('country')\n",
    "    for country in countries:\n",
    "        current_country_table = data_table.where('country', are.equal_to(country))\n",
    "        plt.plot(current_country_table.column(columnX), current_country_table.column(columnY), label = country, linewidth = 1.5)\n",
    "    \n",
    "    ### Do not change the code below ###\n",
    "    plt.legend(loc='center left', bbox_to_anchor=(1, 0.5), fontsize = 'x-large')\n",
    "    plt.xlabel(columnX)\n",
    "    plt.ylabel(f\"{columnY} (Logarithmic Scale)\")\n",
    "    plt.grid()\n",
    "    plt.yscale(\"log\")\n",
    "    \n",
    "    return countries, columnX, columnY"
   ]
  },
  {
   "cell_type": "markdown",
   "metadata": {
    "deletable": false,
    "editable": false
   },
   "source": [
    "<!-- END QUESTION -->\n",
    "\n",
    "**Question 2.3:**\n",
    "Produce a plot of time and capital stock for the countries in your table.\n"
   ]
  },
  {
   "cell_type": "code",
   "execution_count": 17,
   "metadata": {
    "tags": [
     "gradable"
    ]
   },
   "outputs": [
    {
     "data": {
      "image/png": "[encoded data removed]",
      "text/plain": [
       "<Figure size 640x480 with 1 Axes>"
      ]
     },
     "metadata": {},
     "output_type": "display_data"
    }
   ],
   "source": [
    "q2_3 = country_table_plotter(comparison_data, 'year', 'Capital Stock')"
   ]
  },
  {
   "cell_type": "code",
   "execution_count": 18,
   "metadata": {
    "deletable": false,
    "editable": false
   },
   "outputs": [
    {
     "data": {
      "text/html": [
       "<p><strong><pre style='display: inline;'>q2_3</pre></strong> passed! 🎉</p>"
      ],
      "text/plain": [
       "q2_3 results: All test cases passed!"
      ]
     },
     "execution_count": 18,
     "metadata": {},
     "output_type": "execute_result"
    }
   ],
   "source": [
    "grader.check(\"q2_3\")"
   ]
  },
  {
   "cell_type": "markdown",
   "metadata": {
    "deletable": false,
    "editable": false
   },
   "source": [
    "<!-- BEGIN QUESTION -->\n",
    "\n",
    "**Question 2.4:**\n",
    "Identify differences between the countries in your plot above and discuss what surprised you.\n"
   ]
  },
  {
   "cell_type": "markdown",
   "metadata": {},
   "source": [
    "_As you would expect, capital stock are much higher for the global superpowers in China and the US. It's interesting to note that China has recently surpassed the US in this metric, but of course they have a much larger population. That being said, the US capital stock seems to have plateaued in the last few years. It's slightly surprising to see how close Ireland and South Africa are, given their vast difference in population size. There seems to be a bit of a spike in Ireland between 2005 and 2010, which can probably be attributed to the influx of tech companies in the country._"
   ]
  },
  {
   "cell_type": "markdown",
   "metadata": {
    "deletable": false,
    "editable": false
   },
   "source": [
    "<!-- END QUESTION -->\n",
    "\n",
    "**Question 2.5:**\n",
    "Produce a similar plot, but this time of time and labor for the countries in your table.\n"
   ]
  },
  {
   "cell_type": "code",
   "execution_count": 19,
   "metadata": {
    "tags": []
   },
   "outputs": [
    {
     "data": {
      "image/png": "[encoded data removed]",
      "text/plain": [
       "<Figure size 640x480 with 1 Axes>"
      ]
     },
     "metadata": {},
     "output_type": "display_data"
    }
   ],
   "source": [
    "q2_5 = country_table_plotter(comparison_data, 'year', 'Labor Force')"
   ]
  },
  {
   "cell_type": "code",
   "execution_count": 20,
   "metadata": {
    "deletable": false,
    "editable": false
   },
   "outputs": [
    {
     "data": {
      "text/html": [
       "<p><strong><pre style='display: inline;'>q2_5</pre></strong> passed! 🙌</p>"
      ],
      "text/plain": [
       "q2_5 results: All test cases passed!"
      ]
     },
     "execution_count": 20,
     "metadata": {},
     "output_type": "execute_result"
    }
   ],
   "source": [
    "grader.check(\"q2_5\")"
   ]
  },
  {
   "cell_type": "markdown",
   "metadata": {
    "deletable": false,
    "editable": false
   },
   "source": [
    "<!-- BEGIN QUESTION -->\n",
    "\n",
    "**Question 2.6:**\n",
    "Identify differences between the countries in your plot above and discuss what surprised you.\n"
   ]
  },
  {
   "cell_type": "markdown",
   "metadata": {},
   "source": [
    "_As expected, the labor force is gradually increasing for all the above nations, in line with poulation growth. South Africa seems to be more \"wobbly\" than the other countries, which is interesting. Ireland have a surprising looking jump in the change from 1997 to 1998, but that's just a change from 1 to 2, given the units are in millions of people._"
   ]
  },
  {
   "cell_type": "markdown",
   "metadata": {
    "deletable": false,
    "editable": false
   },
   "source": [
    "<!-- END QUESTION -->\n",
    "\n",
    "**Question 2.7:**\n",
    "Create a plot of time and GDP for the countries in your table.\n"
   ]
  },
  {
   "cell_type": "code",
   "execution_count": 21,
   "metadata": {
    "tags": []
   },
   "outputs": [
    {
     "data": {
      "image/png": "[encoded data removed]",
      "text/plain": [
       "<Figure size 640x480 with 1 Axes>"
      ]
     },
     "metadata": {},
     "output_type": "display_data"
    }
   ],
   "source": [
    "q2_7 = country_table_plotter(comparison_data, 'year', 'Real GDP')"
   ]
  },
  {
   "cell_type": "code",
   "execution_count": 22,
   "metadata": {
    "deletable": false,
    "editable": false
   },
   "outputs": [
    {
     "data": {
      "text/html": [
       "<p><strong><pre style='display: inline;'>q2_7</pre></strong> passed! 🙌</p>"
      ],
      "text/plain": [
       "q2_7 results: All test cases passed!"
      ]
     },
     "execution_count": 22,
     "metadata": {},
     "output_type": "execute_result"
    }
   ],
   "source": [
    "grader.check(\"q2_7\")"
   ]
  },
  {
   "cell_type": "markdown",
   "metadata": {
    "deletable": false,
    "editable": false
   },
   "source": [
    "<!-- BEGIN QUESTION -->\n",
    "\n",
    "**Question 2.8:**\n",
    "Using your knowledge of the Cobb-Douglas Production Function, identify differences between the countries and discuss these in relation to your findings about each of the country's levels of capital stock and labor. Also note about how these have changed over time, if at all.\n"
   ]
  },
  {
   "cell_type": "markdown",
   "metadata": {},
   "source": [
    "_Population Size (and labor force): China, USA, South Africa, Ireland<br>\n",
    "Capital Stock (current): China, USA, South Africa, Ireland<br>\n",
    "Real GDP (current): USA, China, South Africa, Ireland<br>_\n",
    "\n",
    "_China and the US have converged to a very similar GDP, with China having pretty consistent growth in the last 30 years while the US GDP has grown gradually in that time.Ireland has nearly caught up to South Africa's GDP in the 30 year span from 1990-2019, having started relatively far behind. I would say that the US has done very well with managing its capital stock and labor force, as with less capital and far fewer laborers they have managed to remain ahead of China's GDP. That being said, China has still done a good job in recent years to utilize their inputs, as their GDP has grown very successfully. Similar to the US, Ireland has done well with maximizing what they have as a small island nation. With significantly lower levels of labor and capital stock, Ireland have managed to bring their GDP to a level nearing that of South Africa, a much larger country. I would say more is to be expected from South Africa, given its size and potential capital, but of course the last 30 years have been a very transformative period in South Africa._"
   ]
  },
  {
   "cell_type": "markdown",
   "metadata": {
    "deletable": false,
    "editable": false
   },
   "source": [
    "<!-- END QUESTION -->\n",
    "\n",
    "## Part 3: Prediction and Comparison"
   ]
  },
  {
   "cell_type": "markdown",
   "metadata": {},
   "source": [
    "We are now going to provide numerical backing to your discussions of differences between the nations. We will predict values for $\\alpha$ and $A$ for each of the 4 countries that we are examining. To do this, we will revisit the equation that you derived in question 1.4. "
   ]
  },
  {
   "cell_type": "markdown",
   "metadata": {
    "deletable": false,
    "editable": false
   },
   "source": [
    "**Question 3.1:**\n",
    "A key step in the original paper by Cobb and Douglas was that they converted the data into an index. This is important because the data is measured in different units. Do this for each country and each of the variables in `comparison_data`. Let the 2011 value for each variable in each country be the base year, i.e. 100. Place this in a new table called `indexed_data` together with `country` and `year` columns.\n",
    "\n",
    "_Hint:_ The formula for calculating an index is as follows:\n",
    "$$\n",
    "\\dfrac{Q_{\\text{current year}}}{Q_{\\text{base year}}} \\cdot 100 \\, \\text{ for some variable } Q\n",
    "$$\n"
   ]
  },
  {
   "cell_type": "code",
   "execution_count": 23,
   "metadata": {
    "tags": [
     "gradable"
    ]
   },
   "outputs": [
    {
     "data": {
      "text/html": [
       "<table border=\"1\" class=\"dataframe\">\n",
       "    <thead>\n",
       "        <tr>\n",
       "            <th>country</th> <th>year</th> <th>Indexed K</th> <th>Indexed L</th> <th>Indexed Y</th>\n",
       "        </tr>\n",
       "    </thead>\n",
       "    <tbody>\n",
       "        <tr>\n",
       "            <td>China        </td> <td>1990</td> <td>8.43159  </td> <td>84.0764  </td> <td>19.6214  </td>\n",
       "        </tr>\n",
       "        <tr>\n",
       "            <td>China        </td> <td>1991</td> <td>8.94064  </td> <td>86.1146  </td> <td>20.6784  </td>\n",
       "        </tr>\n",
       "        <tr>\n",
       "            <td>China        </td> <td>1992</td> <td>9.74686  </td> <td>87.0064  </td> <td>22.2996  </td>\n",
       "        </tr>\n",
       "        <tr>\n",
       "            <td>China        </td> <td>1993</td> <td>10.937   </td> <td>87.7707  </td> <td>23.8846  </td>\n",
       "        </tr>\n",
       "        <tr>\n",
       "            <td>China        </td> <td>1994</td> <td>12.2333  </td> <td>88.4076  </td> <td>26.0905  </td>\n",
       "        </tr>\n",
       "        <tr>\n",
       "            <td>China        </td> <td>1995</td> <td>13.6364  </td> <td>89.0446  </td> <td>28.7217  </td>\n",
       "        </tr>\n",
       "        <tr>\n",
       "            <td>China        </td> <td>1996</td> <td>15.1843  </td> <td>89.9363  </td> <td>30.6447  </td>\n",
       "        </tr>\n",
       "        <tr>\n",
       "            <td>China        </td> <td>1997</td> <td>16.8337  </td> <td>90.828   </td> <td>32.24    </td>\n",
       "        </tr>\n",
       "        <tr>\n",
       "            <td>China        </td> <td>1998</td> <td>18.8507  </td> <td>91.8471  </td> <td>32.2428  </td>\n",
       "        </tr>\n",
       "        <tr>\n",
       "            <td>China        </td> <td>1999</td> <td>20.906   </td> <td>92.8662  </td> <td>33.9591  </td>\n",
       "        </tr>\n",
       "        <tr>\n",
       "            <td>China        </td> <td>2000</td> <td>23.0704  </td> <td>93.758   </td> <td>36.6513  </td>\n",
       "        </tr>\n",
       "        <tr>\n",
       "            <td>China        </td> <td>2001</td> <td>25.6746  </td> <td>94.6497  </td> <td>40.0617  </td>\n",
       "        </tr>\n",
       "        <tr>\n",
       "            <td>China        </td> <td>2002</td> <td>28.7599  </td> <td>95.414   </td> <td>44.2294  </td>\n",
       "        </tr>\n",
       "        <tr>\n",
       "            <td>China        </td> <td>2003</td> <td>32.5455  </td> <td>96.051   </td> <td>48.2855  </td>\n",
       "        </tr>\n",
       "        <tr>\n",
       "            <td>China        </td> <td>2004</td> <td>36.896   </td> <td>96.6879  </td> <td>54.1413  </td>\n",
       "        </tr>\n",
       "        <tr>\n",
       "            <td>China        </td> <td>2005</td> <td>41.9198  </td> <td>97.1975  </td> <td>61.335   </td>\n",
       "        </tr>\n",
       "        <tr>\n",
       "            <td>China        </td> <td>2006</td> <td>48.0123  </td> <td>97.707   </td> <td>67.5038  </td>\n",
       "        </tr>\n",
       "        <tr>\n",
       "            <td>China        </td> <td>2007</td> <td>55.4942  </td> <td>98.2166  </td> <td>73.9374  </td>\n",
       "        </tr>\n",
       "        <tr>\n",
       "            <td>China        </td> <td>2008</td> <td>64.4945  </td> <td>98.5987  </td> <td>77.8694  </td>\n",
       "        </tr>\n",
       "        <tr>\n",
       "            <td>China        </td> <td>2009</td> <td>75.9903  </td> <td>99.1083  </td> <td>83.4944  </td>\n",
       "        </tr>\n",
       "        <tr>\n",
       "            <td>China        </td> <td>2010</td> <td>88.4508  </td> <td>99.4904  </td> <td>93.5942  </td>\n",
       "        </tr>\n",
       "        <tr>\n",
       "            <td>China        </td> <td>2011</td> <td>100      </td> <td>100      </td> <td>100      </td>\n",
       "        </tr>\n",
       "        <tr>\n",
       "            <td>China        </td> <td>2012</td> <td>108.407  </td> <td>100.382  </td> <td>107.338  </td>\n",
       "        </tr>\n",
       "        <tr>\n",
       "            <td>China        </td> <td>2013</td> <td>117.214  </td> <td>100.892  </td> <td>110.469  </td>\n",
       "        </tr>\n",
       "        <tr>\n",
       "            <td>China        </td> <td>2014</td> <td>125.352  </td> <td>101.274  </td> <td>114.6    </td>\n",
       "        </tr>\n",
       "        <tr>\n",
       "            <td>China        </td> <td>2015</td> <td>130.511  </td> <td>101.529  </td> <td>118.426  </td>\n",
       "        </tr>\n",
       "        <tr>\n",
       "            <td>China        </td> <td>2016</td> <td>138.784  </td> <td>101.783  </td> <td>122.624  </td>\n",
       "        </tr>\n",
       "        <tr>\n",
       "            <td>China        </td> <td>2017</td> <td>147.523  </td> <td>101.783  </td> <td>128.942  </td>\n",
       "        </tr>\n",
       "        <tr>\n",
       "            <td>China        </td> <td>2018</td> <td>161.288  </td> <td>101.783  </td> <td>128.533  </td>\n",
       "        </tr>\n",
       "        <tr>\n",
       "            <td>China        </td> <td>2019</td> <td>176.043  </td> <td>101.783  </td> <td>131.705  </td>\n",
       "        </tr>\n",
       "        <tr>\n",
       "            <td>Ireland      </td> <td>1990</td> <td>20.5907  </td> <td>50       </td> <td>31.0049  </td>\n",
       "        </tr>\n",
       "        <tr>\n",
       "            <td>Ireland      </td> <td>1991</td> <td>22.5672  </td> <td>50       </td> <td>31.4798  </td>\n",
       "        </tr>\n",
       "        <tr>\n",
       "            <td>Ireland      </td> <td>1992</td> <td>24.7496  </td> <td>50       </td> <td>32.5526  </td>\n",
       "        </tr>\n",
       "        <tr>\n",
       "            <td>Ireland      </td> <td>1993</td> <td>26.8452  </td> <td>50       </td> <td>34.3153  </td>\n",
       "        </tr>\n",
       "        <tr>\n",
       "            <td>Ireland      </td> <td>1994</td> <td>28.8914  </td> <td>50       </td> <td>36.4841  </td>\n",
       "        </tr>\n",
       "        <tr>\n",
       "            <td>Ireland      </td> <td>1995</td> <td>30.5526  </td> <td>50       </td> <td>41.0382  </td>\n",
       "        </tr>\n",
       "        <tr>\n",
       "            <td>Ireland      </td> <td>1996</td> <td>32.0552  </td> <td>50       </td> <td>44.1795  </td>\n",
       "        </tr>\n",
       "        <tr>\n",
       "            <td>Ireland      </td> <td>1997</td> <td>32.4683  </td> <td>50       </td> <td>49.7258  </td>\n",
       "        </tr>\n",
       "        <tr>\n",
       "            <td>Ireland      </td> <td>1998</td> <td>33.7238  </td> <td>100      </td> <td>55.9992  </td>\n",
       "        </tr>\n",
       "        <tr>\n",
       "            <td>Ireland      </td> <td>1999</td> <td>34.9058  </td> <td>100      </td> <td>60.7964  </td>\n",
       "        </tr>\n",
       "        <tr>\n",
       "            <td>Ireland      </td> <td>2000</td> <td>35.7605  </td> <td>100      </td> <td>66.5639  </td>\n",
       "        </tr>\n",
       "        <tr>\n",
       "            <td>Ireland      </td> <td>2001</td> <td>37.4446  </td> <td>100      </td> <td>70.5117  </td>\n",
       "        </tr>\n",
       "        <tr>\n",
       "            <td>Ireland      </td> <td>2002</td> <td>40.0439  </td> <td>100      </td> <td>74.9584  </td>\n",
       "        </tr>\n",
       "        <tr>\n",
       "            <td>Ireland      </td> <td>2003</td> <td>42.0882  </td> <td>100      </td> <td>77.1022  </td>\n",
       "        </tr>\n",
       "        <tr>\n",
       "            <td>Ireland      </td> <td>2004</td> <td>46.2049  </td> <td>100      </td> <td>81.1552  </td>\n",
       "        </tr>\n",
       "        <tr>\n",
       "            <td>Ireland      </td> <td>2005</td> <td>49.0563  </td> <td>100      </td> <td>88.6841  </td>\n",
       "        </tr>\n",
       "        <tr>\n",
       "            <td>Ireland      </td> <td>2006</td> <td>64.9145  </td> <td>100      </td> <td>97.5088  </td>\n",
       "        </tr>\n",
       "        <tr>\n",
       "            <td>Ireland      </td> <td>2007</td> <td>80.433   </td> <td>100      </td> <td>105.809  </td>\n",
       "        </tr>\n",
       "        <tr>\n",
       "            <td>Ireland      </td> <td>2008</td> <td>82.7945  </td> <td>100      </td> <td>100      </td>\n",
       "        </tr>\n",
       "        <tr>\n",
       "            <td>Ireland      </td> <td>2009</td> <td>81.5063  </td> <td>100      </td> <td>93.0975  </td>\n",
       "        </tr>\n",
       "        <tr>\n",
       "            <td>Ireland      </td> <td>2010</td> <td>94.7868  </td> <td>100      </td> <td>96.6642  </td>\n",
       "        </tr>\n",
       "        <tr>\n",
       "            <td>Ireland      </td> <td>2011</td> <td>100      </td> <td>100      </td> <td>100      </td>\n",
       "        </tr>\n",
       "        <tr>\n",
       "            <td>Ireland      </td> <td>2012</td> <td>105.436  </td> <td>100      </td> <td>105.128  </td>\n",
       "        </tr>\n",
       "        <tr>\n",
       "            <td>Ireland      </td> <td>2013</td> <td>110.212  </td> <td>100      </td> <td>103.753  </td>\n",
       "        </tr>\n",
       "        <tr>\n",
       "            <td>Ireland      </td> <td>2014</td> <td>114.143  </td> <td>100      </td> <td>111.479  </td>\n",
       "        </tr>\n",
       "        <tr>\n",
       "            <td>Ireland      </td> <td>2015</td> <td>117.852  </td> <td>100      </td> <td>154.698  </td>\n",
       "        </tr>\n",
       "        <tr>\n",
       "            <td>Ireland      </td> <td>2016</td> <td>134.707  </td> <td>100      </td> <td>166.653  </td>\n",
       "        </tr>\n",
       "        <tr>\n",
       "            <td>Ireland      </td> <td>2017</td> <td>141.466  </td> <td>100      </td> <td>179.537  </td>\n",
       "        </tr>\n",
       "        <tr>\n",
       "            <td>Ireland      </td> <td>2018</td> <td>148.219  </td> <td>100      </td> <td>189.947  </td>\n",
       "        </tr>\n",
       "        <tr>\n",
       "            <td>Ireland      </td> <td>2019</td> <td>168.469  </td> <td>100      </td> <td>217.361  </td>\n",
       "        </tr>\n",
       "        <tr>\n",
       "            <td>South Africa </td> <td>1990</td> <td>34.5588  </td> <td>75       </td> <td>48.461   </td>\n",
       "        </tr>\n",
       "        <tr>\n",
       "            <td>South Africa </td> <td>1991</td> <td>34.7972  </td> <td>75       </td> <td>48.3259  </td>\n",
       "        </tr>\n",
       "        <tr>\n",
       "            <td>South Africa </td> <td>1992</td> <td>34.9912  </td> <td>75       </td> <td>47.9988  </td>\n",
       "        </tr>\n",
       "        <tr>\n",
       "            <td>South Africa </td> <td>1993</td> <td>35.1981  </td> <td>75       </td> <td>49.4853  </td>\n",
       "        </tr>\n",
       "        <tr>\n",
       "            <td>South Africa </td> <td>1994</td> <td>35.586   </td> <td>81.25    </td> <td>51.097   </td>\n",
       "        </tr>\n",
       "        <tr>\n",
       "            <td>South Africa </td> <td>1995</td> <td>36.086   </td> <td>81.25    </td> <td>53.6701  </td>\n",
       "        </tr>\n",
       "        <tr>\n",
       "            <td>South Africa </td> <td>1996</td> <td>36.7464  </td> <td>81.25    </td> <td>55.8046  </td>\n",
       "        </tr>\n",
       "        <tr>\n",
       "            <td>South Africa </td> <td>1997</td> <td>37.4971  </td> <td>81.25    </td> <td>56.9734  </td>\n",
       "        </tr>\n",
       "        <tr>\n",
       "            <td>South Africa </td> <td>1998</td> <td>38.4128  </td> <td>81.25    </td> <td>57.2455  </td>\n",
       "        </tr>\n",
       "        <tr>\n",
       "            <td>South Africa </td> <td>1999</td> <td>38.9554  </td> <td>87.5     </td> <td>58.6681  </td>\n",
       "        </tr>\n",
       "        <tr>\n",
       "            <td>South Africa </td> <td>2000</td> <td>39.4781  </td> <td>87.5     </td> <td>61.6581  </td>\n",
       "        </tr>\n",
       "        <tr>\n",
       "            <td>South Africa </td> <td>2001</td> <td>40.2404  </td> <td>81.25    </td> <td>64.1559  </td>\n",
       "        </tr>\n",
       "        <tr>\n",
       "            <td>South Africa </td> <td>2002</td> <td>41.1325  </td> <td>87.5     </td> <td>67.0879  </td>\n",
       "        </tr>\n",
       "        <tr>\n",
       "            <td>South Africa </td> <td>2003</td> <td>42.2228  </td> <td>87.5     </td> <td>69.205   </td>\n",
       "        </tr>\n",
       "        <tr>\n",
       "            <td>South Africa </td> <td>2004</td> <td>43.6631  </td> <td>87.5     </td> <td>72.5415  </td>\n",
       "        </tr>\n",
       "        <tr>\n",
       "            <td>South Africa </td> <td>2005</td> <td>45.4112  </td> <td>87.5     </td> <td>78.0285  </td>\n",
       "        </tr>\n",
       "        <tr>\n",
       "            <td>South Africa </td> <td>2006</td> <td>48.812   </td> <td>100      </td> <td>83.8955  </td>\n",
       "        </tr>\n",
       "        <tr>\n",
       "            <td>South Africa </td> <td>2007</td> <td>55.2568  </td> <td>100      </td> <td>88.9751  </td>\n",
       "        </tr>\n",
       "        <tr>\n",
       "            <td>South Africa </td> <td>2008</td> <td>65.2169  </td> <td>100      </td> <td>91.177   </td>\n",
       "        </tr>\n",
       "        <tr>\n",
       "            <td>South Africa </td> <td>2009</td> <td>77.7775  </td> <td>100      </td> <td>90.0082  </td>\n",
       "        </tr>\n",
       "        <tr>\n",
       "            <td>South Africa </td> <td>2010</td> <td>91.1717  </td> <td>100      </td> <td>94.5141  </td>\n",
       "        </tr>\n",
       "        <tr>\n",
       "            <td>South Africa </td> <td>2011</td> <td>100      </td> <td>100      </td> <td>100      </td>\n",
       "        </tr>\n",
       "        <tr>\n",
       "            <td>South Africa </td> <td>2012</td> <td>100.68   </td> <td>106.25   </td> <td>100.172  </td>\n",
       "        </tr>\n",
       "        <tr>\n",
       "            <td>South Africa </td> <td>2013</td> <td>103.142  </td> <td>106.25   </td> <td>100.811  </td>\n",
       "        </tr>\n",
       "        <tr>\n",
       "            <td>South Africa </td> <td>2014</td> <td>105.599  </td> <td>106.25   </td> <td>101.187  </td>\n",
       "        </tr>\n",
       "        <tr>\n",
       "            <td>South Africa </td> <td>2015</td> <td>106.732  </td> <td>112.5    </td> <td>102.565  </td>\n",
       "        </tr>\n",
       "        <tr>\n",
       "            <td>South Africa </td> <td>2016</td> <td>107.665  </td> <td>112.5    </td> <td>103.312  </td>\n",
       "        </tr>\n",
       "        <tr>\n",
       "            <td>South Africa </td> <td>2017</td> <td>108.688  </td> <td>112.5    </td> <td>106.095  </td>\n",
       "        </tr>\n",
       "        <tr>\n",
       "            <td>South Africa </td> <td>2018</td> <td>110.823  </td> <td>118.75   </td> <td>106.801  </td>\n",
       "        </tr>\n",
       "        <tr>\n",
       "            <td>South Africa </td> <td>2019</td> <td>113.021  </td> <td>118.75   </td> <td>107.558  </td>\n",
       "        </tr>\n",
       "        <tr>\n",
       "            <td>United States</td> <td>1990</td> <td>61.9248  </td> <td>86.6197  </td> <td>58.9488  </td>\n",
       "        </tr>\n",
       "        <tr>\n",
       "            <td>United States</td> <td>1991</td> <td>63.1613  </td> <td>85.9155  </td> <td>58.8271  </td>\n",
       "        </tr>\n",
       "        <tr>\n",
       "            <td>United States</td> <td>1992</td> <td>64.4686  </td> <td>85.9155  </td> <td>60.9875  </td>\n",
       "        </tr>\n",
       "        <tr>\n",
       "            <td>United States</td> <td>1993</td> <td>65.8791  </td> <td>86.6197  </td> <td>62.8608  </td>\n",
       "        </tr>\n",
       "        <tr>\n",
       "            <td>United States</td> <td>1994</td> <td>67.4321  </td> <td>88.7324  </td> <td>65.2169  </td>\n",
       "        </tr>\n",
       "        <tr>\n",
       "            <td>United States</td> <td>1995</td> <td>69.0738  </td> <td>89.4366  </td> <td>66.9014  </td>\n",
       "        </tr>\n",
       "        <tr>\n",
       "            <td>United States</td> <td>1996</td> <td>70.9006  </td> <td>90.8451  </td> <td>69.4439  </td>\n",
       "        </tr>\n",
       "        <tr>\n",
       "            <td>United States</td> <td>1997</td> <td>72.8783  </td> <td>92.9577  </td> <td>72.536   </td>\n",
       "        </tr>\n",
       "        <tr>\n",
       "            <td>United States</td> <td>1998</td> <td>75.0984  </td> <td>95.0704  </td> <td>75.766   </td>\n",
       "        </tr>\n",
       "        <tr>\n",
       "            <td>United States</td> <td>1999</td> <td>77.5053  </td> <td>96.4789  </td> <td>79.4865  </td>\n",
       "        </tr>\n",
       "        <tr>\n",
       "            <td>United States</td> <td>2000</td> <td>80.0055  </td> <td>97.8873  </td> <td>82.8284  </td>\n",
       "        </tr>\n",
       "        <tr>\n",
       "            <td>United States</td> <td>2001</td> <td>82.2236  </td> <td>97.8873  </td> <td>83.9904  </td>\n",
       "        </tr>\n",
       "        <tr>\n",
       "            <td>United States</td> <td>2002</td> <td>84.1571  </td> <td>97.1831  </td> <td>85.76    </td>\n",
       "        </tr>\n",
       "        <tr>\n",
       "            <td>United States</td> <td>2003</td> <td>86.1992  </td> <td>97.8873  </td> <td>88.0371  </td>\n",
       "        </tr>\n",
       "        <tr>\n",
       "            <td>United States</td> <td>2004</td> <td>88.4516  </td> <td>98.5915  </td> <td>91.3181  </td>\n",
       "        </tr>\n",
       "        <tr>\n",
       "            <td>United States</td> <td>2005</td> <td>90.9042  </td> <td>100      </td> <td>95.7695  </td>\n",
       "        </tr>\n",
       "        <tr>\n",
       "            <td>United States</td> <td>2006</td> <td>93.3224  </td> <td>102.113  </td> <td>97.7225  </td>\n",
       "        </tr>\n",
       "        <tr>\n",
       "            <td>United States</td> <td>2007</td> <td>95.4995  </td> <td>102.817  </td> <td>99.0941  </td>\n",
       "        </tr>\n",
       "        <tr>\n",
       "            <td>United States</td> <td>2008</td> <td>97.2346  </td> <td>102.817  </td> <td>98.3047  </td>\n",
       "        </tr>\n",
       "        <tr>\n",
       "            <td>United States</td> <td>2009</td> <td>98.102   </td> <td>99.2958  </td> <td>95.7087  </td>\n",
       "        </tr>\n",
       "        <tr>\n",
       "            <td>United States</td> <td>2010</td> <td>98.9915  </td> <td>99.2958  </td> <td>98.2668  </td>\n",
       "        </tr>\n",
       "        <tr>\n",
       "            <td>United States</td> <td>2011</td> <td>100      </td> <td>100      </td> <td>100      </td>\n",
       "        </tr>\n",
       "        <tr>\n",
       "            <td>United States</td> <td>2012</td> <td>101.244  </td> <td>102.113  </td> <td>102.328  </td>\n",
       "        </tr>\n",
       "        <tr>\n",
       "            <td>United States</td> <td>2013</td> <td>102.543  </td> <td>102.817  </td> <td>104.067  </td>\n",
       "        </tr>\n",
       "        <tr>\n",
       "            <td>United States</td> <td>2014</td> <td>103.992  </td> <td>104.225  </td> <td>106.949  </td>\n",
       "        </tr>\n",
       "        <tr>\n",
       "            <td>United States</td> <td>2015</td> <td>105.509  </td> <td>105.634  </td> <td>110.422  </td>\n",
       "        </tr>\n",
       "        <tr>\n",
       "            <td>United States</td> <td>2016</td> <td>106.997  </td> <td>107.042  </td> <td>112.253  </td>\n",
       "        </tr>\n",
       "        <tr>\n",
       "            <td>United States</td> <td>2017</td> <td>108.569  </td> <td>109.155  </td> <td>115.249  </td>\n",
       "        </tr>\n",
       "        <tr>\n",
       "            <td>United States</td> <td>2018</td> <td>110.297  </td> <td>110.563  </td> <td>118.623  </td>\n",
       "        </tr>\n",
       "        <tr>\n",
       "            <td>United States</td> <td>2019</td> <td>112.006  </td> <td>111.268  </td> <td>121.297  </td>\n",
       "        </tr>\n",
       "    </tbody>\n",
       "</table>"
      ],
      "text/plain": [
       "<IPython.core.display.HTML object>"
      ]
     },
     "metadata": {},
     "output_type": "display_data"
    }
   ],
   "source": [
    "# We need to sort comparison_data in alphabetical order because the countries array is in alphabetical order\n",
    "comparison_data = comparison_data.sort('country')\n",
    "\n",
    "base_values = comparison_data.where('year', are.equal_to(2011))\n",
    "countries = comparison_data.group('country').column('country')\n",
    "indexed_Ks = make_array()\n",
    "indexed_Ls = make_array()\n",
    "indexed_Ys = make_array()\n",
    "\n",
    "for country in countries:\n",
    "    current_country_table = comparison_data.where(\"country\", country)\n",
    "    capital_value = current_country_table.column('Capital Stock')/base_values.where(\"country\", country).column(\"Capital Stock\")*100\n",
    "    indexed_Ks = np.append(indexed_Ks, capital_value)\n",
    "    labor_value = current_country_table.column('Labor Force')/base_values.where(\"country\", country).column(\"Labor Force\")*100\n",
    "    indexed_Ls = np.append(indexed_Ls, labor_value)\n",
    "    gdp_value = current_country_table.column('Real GDP')/base_values.where(\"country\", country).column(\"Real GDP\")*100\n",
    "    indexed_Ys = np.append(indexed_Ys, gdp_value)\n",
    "    \n",
    "indexed_data = Table().with_columns(\n",
    "    \"country\", comparison_data.column('country'),\n",
    "    \"year\", comparison_data.column('year'),\n",
    "    \"Indexed K\", indexed_Ks,\n",
    "    \"Indexed L\", indexed_Ls,\n",
    "    \"Indexed Y\", indexed_Ys\n",
    ")\n",
    "\n",
    "indexed_data.show(120)"
   ]
  },
  {
   "cell_type": "code",
   "execution_count": 24,
   "metadata": {
    "deletable": false,
    "editable": false
   },
   "outputs": [
    {
     "data": {
      "text/html": [
       "<p><strong><pre style='display: inline;'>q3_1</pre></strong> passed! 🚀</p>"
      ],
      "text/plain": [
       "q3_1 results: All test cases passed!"
      ]
     },
     "execution_count": 24,
     "metadata": {},
     "output_type": "execute_result"
    }
   ],
   "source": [
    "grader.check(\"q3_1\")"
   ]
  },
  {
   "cell_type": "code",
   "execution_count": 25,
   "metadata": {},
   "outputs": [
    {
     "data": {
      "text/html": [
       "<table border=\"1\" class=\"dataframe\">\n",
       "    <thead>\n",
       "        <tr>\n",
       "            <th>country</th> <th>year</th> <th>Indexed K</th> <th>Indexed L</th> <th>Indexed Y</th> <th>k/l</th> <th>y/l</th>\n",
       "        </tr>\n",
       "    </thead>\n",
       "    <tbody>\n",
       "        <tr>\n",
       "            <td>United States</td> <td>1990</td> <td>61.9248  </td> <td>86.6197  </td> <td>58.9488  </td> <td>1.05048 </td> <td>1.46941</td>\n",
       "        </tr>\n",
       "        <tr>\n",
       "            <td>United States</td> <td>1991</td> <td>63.1613  </td> <td>85.9155  </td> <td>58.8271  </td> <td>1.07368 </td> <td>1.46048</td>\n",
       "        </tr>\n",
       "        <tr>\n",
       "            <td>United States</td> <td>1992</td> <td>64.4686  </td> <td>85.9155  </td> <td>60.9875  </td> <td>1.05708 </td> <td>1.40874</td>\n",
       "        </tr>\n",
       "        <tr>\n",
       "            <td>United States</td> <td>1993</td> <td>65.8791  </td> <td>86.6197  </td> <td>62.8608  </td> <td>1.04802 </td> <td>1.37796</td>\n",
       "        </tr>\n",
       "        <tr>\n",
       "            <td>United States</td> <td>1994</td> <td>67.4321  </td> <td>88.7324  </td> <td>65.2169  </td> <td>1.03397 </td> <td>1.36057</td>\n",
       "        </tr>\n",
       "        <tr>\n",
       "            <td>United States</td> <td>1995</td> <td>69.0738  </td> <td>89.4366  </td> <td>66.9014  </td> <td>1.03247 </td> <td>1.33684</td>\n",
       "        </tr>\n",
       "        <tr>\n",
       "            <td>United States</td> <td>1996</td> <td>70.9006  </td> <td>90.8451  </td> <td>69.4439  </td> <td>1.02098 </td> <td>1.30818</td>\n",
       "        </tr>\n",
       "        <tr>\n",
       "            <td>United States</td> <td>1997</td> <td>72.8783  </td> <td>92.9577  </td> <td>72.536   </td> <td>1.00472 </td> <td>1.28154</td>\n",
       "        </tr>\n",
       "        <tr>\n",
       "            <td>United States</td> <td>1998</td> <td>75.0984  </td> <td>95.0704  </td> <td>75.766   </td> <td>0.991188</td> <td>1.25479</td>\n",
       "        </tr>\n",
       "        <tr>\n",
       "            <td>United States</td> <td>1999</td> <td>77.5053  </td> <td>96.4789  </td> <td>79.4865  </td> <td>0.975075</td> <td>1.21378</td>\n",
       "        </tr>\n",
       "    </tbody>\n",
       "</table>\n",
       "<p>... (20 rows omitted)</p>"
      ],
      "text/plain": [
       "country       | year | Indexed K | Indexed L | Indexed Y | k/l      | y/l\n",
       "United States | 1990 | 61.9248   | 86.6197   | 58.9488   | 1.05048  | 1.46941\n",
       "United States | 1991 | 63.1613   | 85.9155   | 58.8271   | 1.07368  | 1.46048\n",
       "United States | 1992 | 64.4686   | 85.9155   | 60.9875   | 1.05708  | 1.40874\n",
       "United States | 1993 | 65.8791   | 86.6197   | 62.8608   | 1.04802  | 1.37796\n",
       "United States | 1994 | 67.4321   | 88.7324   | 65.2169   | 1.03397  | 1.36057\n",
       "United States | 1995 | 69.0738   | 89.4366   | 66.9014   | 1.03247  | 1.33684\n",
       "United States | 1996 | 70.9006   | 90.8451   | 69.4439   | 1.02098  | 1.30818\n",
       "United States | 1997 | 72.8783   | 92.9577   | 72.536    | 1.00472  | 1.28154\n",
       "United States | 1998 | 75.0984   | 95.0704   | 75.766    | 0.991188 | 1.25479\n",
       "United States | 1999 | 77.5053   | 96.4789   | 79.4865   | 0.975075 | 1.21378\n",
       "... (20 rows omitted)"
      ]
     },
     "execution_count": 25,
     "metadata": {},
     "output_type": "execute_result"
    }
   ],
   "source": [
    "us_indexed = indexed_data.where('country', 'United States')\n",
    "advanced_us_indexed = us_indexed.with_columns('k/l', us_indexed.column(2)/us_indexed.column(4), 'y/l', us_indexed.column(3)/us_indexed.column(4))\n",
    "advanced_us_indexed"
   ]
  },
  {
   "cell_type": "code",
   "execution_count": 26,
   "metadata": {},
   "outputs": [
    {
     "data": {
      "image/png": "[encoded data removed]",
      "text/plain": [
       "<Figure size 500x500 with 1 Axes>"
      ]
     },
     "metadata": {},
     "output_type": "display_data"
    }
   ],
   "source": [
    "advanced_us_indexed.scatter(5, 6)"
   ]
  },
  {
   "cell_type": "markdown",
   "metadata": {
    "deletable": false,
    "editable": false
   },
   "source": [
    "**Question 3.2:**\n",
    "Using the equation you derived in Part 1 and the `indexed_data` table, calculate the two log ratios that you need to perform linear regression. Place them in the table `log_ratios` with `country` and `year` as the two leftmost columns respectively. The `log_ratios` table should have 4 columns: `country`, `year`, `ln(Y/L)`, and `ln(K/L)`.\n"
   ]
  },
  {
   "cell_type": "code",
   "execution_count": 27,
   "metadata": {
    "tags": []
   },
   "outputs": [
    {
     "data": {
      "text/html": [
       "<table border=\"1\" class=\"dataframe\">\n",
       "    <thead>\n",
       "        <tr>\n",
       "            <th>country</th> <th>year</th> <th>ln(Y/L)</th> <th>ln(K/L)</th>\n",
       "        </tr>\n",
       "    </thead>\n",
       "    <tbody>\n",
       "        <tr>\n",
       "            <td>China  </td> <td>1990</td> <td>-1.45511</td> <td>-2.29974</td>\n",
       "        </tr>\n",
       "        <tr>\n",
       "            <td>China  </td> <td>1991</td> <td>-1.42659</td> <td>-2.26507</td>\n",
       "        </tr>\n",
       "        <tr>\n",
       "            <td>China  </td> <td>1992</td> <td>-1.36141</td> <td>-2.18904</td>\n",
       "        </tr>\n",
       "        <tr>\n",
       "            <td>China  </td> <td>1993</td> <td>-1.30149</td> <td>-2.08257</td>\n",
       "        </tr>\n",
       "        <tr>\n",
       "            <td>China  </td> <td>1994</td> <td>-1.22039</td> <td>-1.97779</td>\n",
       "        </tr>\n",
       "        <tr>\n",
       "            <td>China  </td> <td>1995</td> <td>-1.13148</td> <td>-1.8764 </td>\n",
       "        </tr>\n",
       "        <tr>\n",
       "            <td>China  </td> <td>1996</td> <td>-1.07664</td> <td>-1.77884</td>\n",
       "        </tr>\n",
       "        <tr>\n",
       "            <td>China  </td> <td>1997</td> <td>-1.03576</td> <td>-1.68558</td>\n",
       "        </tr>\n",
       "        <tr>\n",
       "            <td>China  </td> <td>1998</td> <td>-1.04683</td> <td>-1.58358</td>\n",
       "        </tr>\n",
       "        <tr>\n",
       "            <td>China  </td> <td>1999</td> <td>-1.006  </td> <td>-1.49113</td>\n",
       "        </tr>\n",
       "    </tbody>\n",
       "</table>\n",
       "<p>... (110 rows omitted)</p>"
      ],
      "text/plain": [
       "country | year | ln(Y/L)  | ln(K/L)\n",
       "China   | 1990 | -1.45511 | -2.29974\n",
       "China   | 1991 | -1.42659 | -2.26507\n",
       "China   | 1992 | -1.36141 | -2.18904\n",
       "China   | 1993 | -1.30149 | -2.08257\n",
       "China   | 1994 | -1.22039 | -1.97779\n",
       "China   | 1995 | -1.13148 | -1.8764\n",
       "China   | 1996 | -1.07664 | -1.77884\n",
       "China   | 1997 | -1.03576 | -1.68558\n",
       "China   | 1998 | -1.04683 | -1.58358\n",
       "China   | 1999 | -1.006   | -1.49113\n",
       "... (110 rows omitted)"
      ]
     },
     "execution_count": 27,
     "metadata": {},
     "output_type": "execute_result"
    }
   ],
   "source": [
    "log_ratios = Table().with_columns('country', indexed_data.column('country'), 'year', indexed_data.column('year'), 'ln(Y/L)', np.log(indexed_Ys/indexed_Ls), 'ln(K/L)', np.log(indexed_Ks/indexed_Ls))\n",
    "log_ratios"
   ]
  },
  {
   "cell_type": "code",
   "execution_count": 28,
   "metadata": {
    "deletable": false,
    "editable": false
   },
   "outputs": [
    {
     "data": {
      "text/html": [
       "<p><strong><pre style='display: inline;'>q3_2</pre></strong> passed! 🍀</p>"
      ],
      "text/plain": [
       "q3_2 results: All test cases passed!"
      ]
     },
     "execution_count": 28,
     "metadata": {},
     "output_type": "execute_result"
    }
   ],
   "source": [
    "grader.check(\"q3_2\")"
   ]
  },
  {
   "cell_type": "markdown",
   "metadata": {},
   "source": [
    "The function `country_table_scatter` defined below takes in a data table, $x$ column label, and $y$ column label and plots these columns as against each other for each country in `data_table`."
   ]
  },
  {
   "cell_type": "code",
   "execution_count": 29,
   "metadata": {},
   "outputs": [],
   "source": [
    "def country_table_scatter(data_table, columnX, columnY):\n",
    "    # First getting a list of all the countries in data_table\n",
    "    country_list = data_table.group(\"country\").column(\"country\")\n",
    "    \n",
    "    # For each country, creating a scatter plot of columnX vs. columnY\n",
    "    for country in country_list:\n",
    "        curr_data_table = data_table.where(\"country\", country)\n",
    "        curr_data_table.scatter(columnX, columnY)\n",
    "        plt.title(country)\n",
    "        plt.grid()"
   ]
  },
  {
   "cell_type": "markdown",
   "metadata": {
    "deletable": false,
    "editable": false
   },
   "source": [
    "<!-- BEGIN QUESTION -->\n",
    "\n",
    "**Question 3.3.1:**\n",
    "Using the `country_table_scatter` function provided, plot the log ratios for each country from the `log_ratios` table below.\n"
   ]
  },
  {
   "cell_type": "code",
   "execution_count": 30,
   "metadata": {
    "scrolled": true,
    "tags": []
   },
   "outputs": [
    {
     "data": {
      "image/png": "[encoded data removed]",
      "text/plain": [
       "<Figure size 500x500 with 1 Axes>"
      ]
     },
     "metadata": {},
     "output_type": "display_data"
    },
    {
     "data": {
      "image/png": "[encoded data removed]",
      "text/plain": [
       "<Figure size 500x500 with 1 Axes>"
      ]
     },
     "metadata": {},
     "output_type": "display_data"
    },
    {
     "data": {
      "image/png": "[encoded data removed]",
      "text/plain": [
       "<Figure size 500x500 with 1 Axes>"
      ]
     },
     "metadata": {},
     "output_type": "display_data"
    },
    {
     "data": {
      "image/png": "[encoded data removed]",
      "text/plain": [
       "<Figure size 500x500 with 1 Axes>"
      ]
     },
     "metadata": {},
     "output_type": "display_data"
    }
   ],
   "source": [
    "country_table_scatter(log_ratios, 'ln(K/L)', 'ln(Y/L)')"
   ]
  },
  {
   "cell_type": "markdown",
   "metadata": {
    "deletable": false,
    "editable": false
   },
   "source": [
    "<!-- END QUESTION -->\n",
    "\n",
    "<!-- BEGIN QUESTION -->\n",
    "\n",
    "**Question 3.3.2:**\n",
    "What do you notice about the scatter plots? How do they differ?\n"
   ]
  },
  {
   "cell_type": "markdown",
   "metadata": {},
   "source": [
    "_China's plot looks nearly linear, which seems crazy. Ireland almost has a double-helix type shape forming, at least at the lower ln(K/L) values. South Africa has a lot of values around -0.8 ln(K/L), and a fair few around 0.0 ln(K/L), but not many in-between. The US seems similar to China, although with more points around 0.0 ln(K/L).<br>_\n",
    "\n",
    "_China have mostly negative ln(Y/L) and ln(K/L) values, although a few positive are present too. Ireland has a fair few positive ln(Y/L) values, some even as high as 0.8! South Africa, on the other hand, has no positive ln(Y/L) or ln(K/L) values at all! Similar to China, the US has mostly negative values with a few positive ones. However, there is a concentration around the (0.00, 0.00) mark._"
   ]
  },
  {
   "cell_type": "markdown",
   "metadata": {
    "deletable": false,
    "editable": false
   },
   "source": [
    "<!-- END QUESTION -->\n",
    "\n",
    "<!-- BEGIN QUESTION -->\n",
    "\n",
    "**Extra Credit Question:**\n",
    "Let's take a look at the scatter plot for the U.S in particular. What do you notice as the value of ln(K/L) nears -0.10 to 0.00? What could be the reason behind the stagnation?\n"
   ]
  },
  {
   "cell_type": "markdown",
   "metadata": {},
   "source": [
    "_As I mentioned above, the US has a strong concentration of points at ln(K/L), with those points ranging from around 0.0 to 0.1 on the ln(Y/L) axis. I believe the reason behind this stagnation is there are many years where the indexed ratio of K/L is right around 1, meaning that when you np.log(1) you get the value of zero the appears so often in the US scatter plot. The indexed ratio of K/L being right around 1 has the real world meaning that there are many years where the amount of capital is proportional to the amount of labor, when compared to the 2011 values we used as the index basis. This can be further examined to say that the US doesn't seem to be favoring capital or labor more than the other, at least compared to how they did in 2011._"
   ]
  },
  {
   "cell_type": "markdown",
   "metadata": {
    "deletable": false,
    "editable": false
   },
   "source": [
    "<!-- END QUESTION -->\n",
    "\n",
    "To help you compare, the code below will plot all of the scatter plots on the same axis. Remember, the axes are in terms of logarithms. Thus, even small differences in slope or intercepts would yield big changes."
   ]
  },
  {
   "cell_type": "code",
   "execution_count": 31,
   "metadata": {},
   "outputs": [
    {
     "data": {
      "image/png": "[encoded data removed]",
      "text/plain": [
       "<Figure size 640x480 with 1 Axes>"
      ]
     },
     "metadata": {},
     "output_type": "display_data"
    }
   ],
   "source": [
    "all_scatter(log_ratios, \"ln(K/L)\", \"ln(Y/L)\")"
   ]
  },
  {
   "cell_type": "markdown",
   "metadata": {},
   "source": [
    "Now, we want to make a linear approximation of the curves above. How will we do this? Through linear regression.\n",
    "\n",
    "We will be using NumPy's `polyfit` function to get the $\\alpha$ and $A$ values for each country. You will learn more about linear regression later in Data 8, but think of it as fitting a line to a set of data points. The polyfit function would return the slope and intercept of such a line. Here is the link to the documentation of the <a href = \"https://numpy.org/doc/1.18/reference/generated/numpy.polyfit.html\"> function</a>: \n",
    "\n",
    "Let us break down how this function works by taking a look at the examples section of the documentation:\n",
    "\n",
    "```python\n",
    "import numpy as np\n",
    "x = np.array([0.0, 1.0, 2.0, 3.0,  4.0,  5.0])\n",
    "y = np.array([0.0, 0.8, 0.9, 1.0, 2.0, 3.0])\n",
    "model = np.polyfit(x, y, 1)\n",
    "```\n",
    "\n",
    "The first argument to `np.polyfit()` is the array of data $x$, the second argument contains the values we wish to estimate $y$. The last argument specifies the degree of the polynomial we wish to use. A 1-degree polynomial takes the following form: $y = a+ b x$. A 2-degree polynomial looks like this: $y = a + bx + cx^2$.\n",
    "\n",
    "`np.polyfit()` returns an array of the coefficients of the linear regression line. A degree 1 polynomial would contain two elements. A degree 2 polynomial would contain three elements. Let's look at the structure of the array:\n",
    "\n",
    "```python\n",
    ">>> model\n",
    "array([ 0.53428571, -0.05238095])\n",
    ">>> model.item(0) # The slope term\n",
    "0.53428571\n",
    ">>> model.item(1) # The intercept term\n",
    "-0.05238095\n",
    "```\n",
    "\n",
    "From this, we can construct the equation of the regression line as a function of $x$: $y = -0.05238095 + 0.53428571x$. \n",
    "\n",
    "Take a look at the derivation for the Cobb-Douglas production function we did in Part 1 and think about what kind of polynomial we want to fit on our data."
   ]
  },
  {
   "cell_type": "markdown",
   "metadata": {
    "deletable": false,
    "editable": false
   },
   "source": [
    "**Question 3.4:**\n",
    "Using `np.polyfit`, fit the data taken from each country. \n",
    "\n",
    "_Hint:_ Fill in the `<country>_x` and `<country>_y` arrays to make your life easier. You will need to call `np.polyfit` four times (once for each country).\n"
   ]
  },
  {
   "cell_type": "code",
   "execution_count": 32,
   "metadata": {
    "scrolled": true,
    "tags": []
   },
   "outputs": [
    {
     "name": "stdout",
     "output_type": "stream",
     "text": [
      "[ 0.62237584 -0.00388481] [ 1.23018755  0.03975888] [ 0.39146298 -0.03090843] [ 0.67624556  0.19006941]\n"
     ]
    }
   ],
   "source": [
    "# Create arrays of the data we will need from each country.\n",
    "# Think about which variable should be on each axis.\n",
    "\n",
    "china_x = log_ratios.where('country', 'China').column('ln(K/L)')\n",
    "china_y = log_ratios.where('country', 'China').column('ln(Y/L)')\n",
    "us_x = log_ratios.where('country', 'United States').column('ln(K/L)')\n",
    "us_y = log_ratios.where('country', 'United States').column('ln(Y/L)')\n",
    "southAfrica_x = log_ratios.where('country', 'South Africa').column('ln(K/L)')\n",
    "southAfrica_y = log_ratios.where('country', 'South Africa').column('ln(Y/L)')\n",
    "ireland_x = log_ratios.where('country', 'Ireland').column('ln(K/L)')\n",
    "ireland_y = log_ratios.where('country', 'Ireland').column('ln(Y/L)')\n",
    "\n",
    "model_china = np.polyfit(china_x, china_y, 1)\n",
    "model_us = np.polyfit(us_x, us_y, 1)\n",
    "model_southAfrica = np.polyfit(southAfrica_x, southAfrica_y, 1)\n",
    "model_ireland = np.polyfit(ireland_x, ireland_y, 1)\n",
    "\n",
    "print(model_china, model_us, model_southAfrica, model_ireland)"
   ]
  },
  {
   "cell_type": "code",
   "execution_count": 33,
   "metadata": {
    "deletable": false,
    "editable": false
   },
   "outputs": [
    {
     "data": {
      "text/html": [
       "<p><strong><pre style='display: inline;'>q3_4</pre></strong> passed! 🌟</p>"
      ],
      "text/plain": [
       "q3_4 results: All test cases passed!"
      ]
     },
     "execution_count": 33,
     "metadata": {},
     "output_type": "execute_result"
    }
   ],
   "source": [
    "grader.check(\"q3_4\")"
   ]
  },
  {
   "cell_type": "code",
   "execution_count": 34,
   "metadata": {},
   "outputs": [
    {
     "name": "stdout",
     "output_type": "stream",
     "text": [
      "['China' 'Ireland' 'South Africa' 'United States']\n"
     ]
    }
   ],
   "source": [
    "# for your reference\n",
    "print(country_array)"
   ]
  },
  {
   "cell_type": "markdown",
   "metadata": {
    "deletable": false,
    "editable": false
   },
   "source": [
    "**Question 3.5:**\n",
    "Now that we have fit the data of each country, we can then retrieve the slope and intercept of each fit. Using the equation you derived in Question 1.3, fill in the blanks in the print statements below such that they display the $\\alpha$ and $A$ values for each country. Note that you will need to transform at least one of the variables.\n",
    "\n",
    "**Note:** Python has special strings called **f-strings** where it fills in the value of a variable for you. For example:\n",
    "\n",
    "```python\n",
    ">>> arr = make_array(1, 2, 3)\n",
    ">>> print(f\"The second element of arr is {arr.item(1)}\")\n",
    "The second element of arr is 2\n",
    "```\n",
    "\n",
    "Fill `alpha_array` and `A_array` with the correct values from your `model_*` arrays. **Make sure their elements are in the same order as in the** `country_array`. Then, you will need to replace the `...` inside the curly braces in the f-strings print statements. You can use the example above as a reference. \n"
   ]
  },
  {
   "cell_type": "code",
   "execution_count": 35,
   "metadata": {
    "tags": []
   },
   "outputs": [
    {
     "name": "stdout",
     "output_type": "stream",
     "text": [
      "China alpha value: 0.6223758383900692\n",
      "China A value: 0.9961227233181271\n",
      "\n",
      "Ireland alpha value: 0.6762455562004825\n",
      "Ireland A value: 1.209333535733307\n",
      "\n",
      "South Africa alpha value: 0.39146298306617644\n",
      "South Africa A value: 0.969564348672439\n",
      "\n",
      "United States alpha value: 1.2301875466494678\n",
      "United States A value: 1.0405598427417713\n",
      "\n"
     ]
    }
   ],
   "source": [
    "alpha_array = make_array(model_china.item(0), model_ireland.item(0), model_southAfrica.item(0), model_us.item(0))\n",
    "A_array = make_array(np.exp(model_china.item(1)), np.exp(model_ireland.item(1)), np.exp(model_southAfrica.item(1)), np.exp(model_us.item(1))) # you may want to use np.exp here\n",
    "for i in np.arange(len(country_array)):\n",
    "    print(f\"{country_array.item(i)} alpha value: {alpha_array.item(i)}\")\n",
    "    print(f\"{country_array.item(i)} A value: {A_array.item(i)}\")\n",
    "    print()"
   ]
  },
  {
   "cell_type": "code",
   "execution_count": 36,
   "metadata": {
    "deletable": false,
    "editable": false
   },
   "outputs": [
    {
     "data": {
      "text/html": [
       "<p><strong><pre style='display: inline;'>q3_5</pre></strong> passed! 🍀</p>"
      ],
      "text/plain": [
       "q3_5 results: All test cases passed!"
      ]
     },
     "execution_count": 36,
     "metadata": {},
     "output_type": "execute_result"
    }
   ],
   "source": [
    "grader.check(\"q3_5\")"
   ]
  },
  {
   "cell_type": "markdown",
   "metadata": {
    "deletable": false,
    "editable": false
   },
   "source": [
    "**Question 3.6:**\n",
    "What do you notice about USA's $\\alpha$ value? What does this say about our model's assumption of constant returns to scale?\n",
    "\n",
    "<ol type=\"A\" style=\"list-style-type: lower-alpha;\">\n",
    "    <li>USA's $\\alpha$ value is greater than 1, and it violates our model's assumption. </li>\n",
    "    <li>USA's $\\alpha$ value is greater than 1, and it does not violate our model's assumption. </li>\n",
    "    <li>USA's $\\alpha$ value is less than 1, and it violates our model's assumption. </li>\n",
    "    <li>USA's $\\alpha$ value is less than 1, and it does not violate our model's assumption. </li>\n",
    "</ol>\n",
    "\n",
    "Assign a letter corresponding to your answer to `q3_6` below. For example, `q1_2 = 'a'`.\n"
   ]
  },
  {
   "cell_type": "code",
   "execution_count": 37,
   "metadata": {
    "tags": []
   },
   "outputs": [],
   "source": [
    "q3_6 = 'a'"
   ]
  },
  {
   "cell_type": "code",
   "execution_count": 38,
   "metadata": {
    "deletable": false,
    "editable": false
   },
   "outputs": [
    {
     "data": {
      "text/html": [
       "<p><strong><pre style='display: inline;'>q3_6</pre></strong> passed! 🚀</p>"
      ],
      "text/plain": [
       "q3_6 results: All test cases passed!"
      ]
     },
     "execution_count": 38,
     "metadata": {},
     "output_type": "execute_result"
    }
   ],
   "source": [
    "grader.check(\"q3_6\")"
   ]
  },
  {
   "cell_type": "markdown",
   "metadata": {
    "deletable": false,
    "editable": false
   },
   "source": [
    "<!-- BEGIN QUESTION -->\n",
    "\n",
    "**Question 3.7:**\n",
    "With reference to the $\\alpha$ and $A$ values for each of the countries you have examined, do they indicate about that country's ability to produce output as measured through GDP? Compare and contrast how each country allocates capital and labor when producing output. How about the role of technology or research and development? 3-4 sentences should suffice.\n"
   ]
  },
  {
   "cell_type": "markdown",
   "metadata": {},
   "source": [
    "_Generally, a higher alpha value means a country places more emphasis on capital than labor and a higher A value means a country is more successfully using their capital and labor to produce outputs (create GDP). As expected, the United States has the highest A value while South Africa has the lowest, with not even 1/3 of the value of the US. Ireland and China have A values between those two, with Ireland's slightly higher than China's. All four countries have alpha values right around 1, with both the US and Ireland having values above 1. These values suggest that all four of these nations place a heavy emphasis on capital, but that is under the assumption of constant returns to scale which is likely not the case._"
   ]
  },
  {
   "cell_type": "markdown",
   "metadata": {
    "deletable": false,
    "editable": false
   },
   "source": [
    "<!-- END QUESTION -->\n",
    "\n",
    "**That's all! Hope you had fun analyzing the vast amount of data.**"
   ]
  },
  {
   "cell_type": "markdown",
   "metadata": {},
   "source": [
    "---\n",
    "\n",
    "**Acknowledgements:**\n",
    "We would like to thank Professor Raymond Hawkins for his Economics 100B Problem Set that served as the basis for this assignment."
   ]
  },
  {
   "cell_type": "markdown",
   "metadata": {
    "deletable": false,
    "editable": false
   },
   "source": [
    "## Submission\n",
    "\n",
    "Make sure you have run all cells in your notebook in order before running the cell below, so that all images/graphs appear in the output. The cell below will generate a zip file for you to submit. **Please save before exporting!**"
   ]
  },
  {
   "cell_type": "code",
   "execution_count": 39,
   "metadata": {
    "deletable": false,
    "editable": false
   },
   "outputs": [
    {
     "name": "stdout",
     "output_type": "stream",
     "text": [
      "Running your submission against local test cases...\n",
      "\n",
      "\n",
      "\n",
      "Your submission received the following results when run against available test cases:\n",
      "\n",
      "    q1_1 results: All test cases passed!\n",
      "\n",
      "    q1_2 results: All test cases passed!\n",
      "\n",
      "    q1_3 results: All test cases passed!\n",
      "\n",
      "    q1_4 results: All test cases passed!\n",
      "\n",
      "    q2_1 results: All test cases passed!\n",
      "\n",
      "    q2_3 results: All test cases passed!\n",
      "\n",
      "    q2_5 results: All test cases passed!\n",
      "\n",
      "    q2_7 results: All test cases passed!\n",
      "\n",
      "    q3_1 results: All test cases passed!\n",
      "\n",
      "    q3_2 results: All test cases passed!\n",
      "\n",
      "    q3_4 results: All test cases passed!\n",
      "\n",
      "    q3_5 results: All test cases passed!\n",
      "\n",
      "    q3_6 results: All test cases passed!\n"
     ]
    },
    {
     "data": {
      "text/html": [
       "\n",
       "            <p>Your submission has been exported. Click <a href=\"proj02_2024_10_16T09_00_03_239949.zip\" download=\"proj02_2024_10_16T09_00_03_239949.zip\" target=\"_blank\">here</a>\n",
       "            to download the zip file.</p>\n",
       "            "
      ],
      "text/plain": [
       "<IPython.core.display.HTML object>"
      ]
     },
     "metadata": {},
     "output_type": "display_data"
    }
   ],
   "source": [
    "# Save your notebook first, then run this cell to export your submission.\n",
    "grader.export(pdf=False, run_tests=True)"
   ]
  },
  {
   "cell_type": "markdown",
   "metadata": {},
   "source": [
    " "
   ]
  }
 ],
 "metadata": {
  "kernelspec": {
   "display_name": "Python 3 (ipykernel)",
   "language": "python",
   "name": "python3"
  },
  "language_info": {
   "codemirror_mode": {
    "name": "ipython",
    "version": 3
   },
   "file_extension": ".py",
   "mimetype": "text/x-python",
   "name": "python",
   "nbconvert_exporter": "python",
   "pygments_lexer": "ipython3",
   "version": "3.11.10"
  },
  "otter": {
   "OK_FORMAT": true,
   "tests": {
    "q1_1": {
     "name": "q1_1",
     "points": null,
     "suites": [
      {
       "cases": [
        {
         "code": ">>> all_countries.num_rows == 183\nTrue",
         "hidden": false,
         "locked": false
        },
        {
         "code": ">>> all_countries.row(23)[0] < all_countries.row(55)[0]\nTrue",
         "hidden": false,
         "locked": false
        },
        {
         "code": ">>> all_countries.row(0)[0] == 'Albania'\nTrue",
         "hidden": false,
         "locked": false
        },
        {
         "code": ">>> all_countries.labels == ('Country', 'Earliest Year')\nTrue",
         "hidden": false,
         "locked": false
        },
        {
         "code": ">>> np.all(data.where('year', all_countries.row(128)[1]).where('country', all_countries.row(128)[0]).column('cgdpe') != -1)\nTrue",
         "hidden": false,
         "locked": false
        },
        {
         "code": ">>> np.all(data.where('year', all_countries.row(134)[1]).where('country', all_countries.row(134)[0]).column('cgdpe') != -1)\nTrue",
         "hidden": false,
         "locked": false
        },
        {
         "code": ">>> np.all(data.where('year', all_countries.row(134)[1] - 1).where('country', all_countries.row(134)[0]).column('cgdpe') == -1)\nTrue",
         "hidden": false,
         "locked": false
        }
       ],
       "scored": true,
       "setup": "",
       "teardown": "",
       "type": "doctest"
      }
     ]
    },
    "q1_2": {
     "name": "q1_2",
     "points": [
      0,
      0
     ],
     "suites": [
      {
       "cases": [
        {
         "code": ">>> len(q1_2) == 4\nTrue",
         "hidden": false,
         "locked": false
        },
        {
         "code": ">>> np.all([x in ['A', 'K', 'L', 'alpha', 'beta'] for x in q1_2])\nTrue",
         "hidden": false,
         "locked": false
        }
       ],
       "scored": true,
       "setup": "",
       "teardown": "",
       "type": "doctest"
      }
     ]
    },
    "q1_3": {
     "name": "q1_3",
     "points": null,
     "suites": [
      {
       "cases": [
        {
         "code": ">>> len(missing_variables) > 0\nTrue",
         "hidden": false,
         "locked": false
        }
       ],
       "scored": true,
       "setup": "",
       "teardown": "",
       "type": "doctest"
      }
     ]
    },
    "q1_4": {
     "name": "q1_4",
     "points": null,
     "suites": [
      {
       "cases": [
        {
         "code": ">>> cleaned_data.num_rows == 12810\nTrue",
         "hidden": false,
         "locked": false
        },
        {
         "code": ">>> len(cleaned_data.columns) == 5\nTrue",
         "hidden": false,
         "locked": false
        },
        {
         "code": ">>> cleaned_data.labels[2:5] == ('Capital Stock', 'Real GDP', 'Labor Force')\nTrue",
         "hidden": false,
         "locked": false
        }
       ],
       "scored": true,
       "setup": "",
       "teardown": "",
       "type": "doctest"
      }
     ]
    },
    "q2_1": {
     "name": "q2_1",
     "points": null,
     "suites": [
      {
       "cases": [
        {
         "code": ">>> len(country_array) == 4\nTrue",
         "hidden": false,
         "locked": false
        },
        {
         "code": ">>> 'United States' in country_array\nTrue",
         "hidden": false,
         "locked": false
        },
        {
         "code": ">>> 'China' in country_array\nTrue",
         "hidden": false,
         "locked": false
        },
        {
         "code": ">>> np.count_nonzero(np.isin(country_array, all_countries.column('Country'))) == 4\nTrue",
         "hidden": false,
         "locked": false
        },
        {
         "code": ">>> np.all(all_countries.where('Country', country_array.item(2)).column('Earliest Year') <= 1990)\nTrue",
         "hidden": false,
         "locked": false
        },
        {
         "code": ">>> np.all(all_countries.where('Country', country_array.item(3)).column('Earliest Year') <= 1990)\nTrue",
         "hidden": false,
         "locked": false
        },
        {
         "code": ">>> len(comparison_data.group('country').column('country')) == 4\nTrue",
         "hidden": false,
         "locked": false
        },
        {
         "code": ">>> len(comparison_data.labels) == 5\nTrue",
         "hidden": false,
         "locked": false
        },
        {
         "code": ">>> country_array.item(0) < country_array.item(1) < country_array.item(2) < country_array.item(3)\nTrue",
         "hidden": false,
         "locked": false
        }
       ],
       "scored": true,
       "setup": "",
       "teardown": "",
       "type": "doctest"
      }
     ]
    },
    "q2_3": {
     "name": "q2_3",
     "points": [
      0,
      0
     ],
     "suites": [
      {
       "cases": [
        {
         "code": ">>> len(q2_3) == 3\nTrue",
         "hidden": false,
         "locked": false
        },
        {
         "code": ">>> np.all([c in country_array for c in q2_3[0]])\nTrue",
         "hidden": false,
         "locked": false
        }
       ],
       "scored": true,
       "setup": "",
       "teardown": "",
       "type": "doctest"
      }
     ]
    },
    "q2_5": {
     "name": "q2_5",
     "points": [
      0,
      0
     ],
     "suites": [
      {
       "cases": [
        {
         "code": ">>> len(q2_5) == 3\nTrue",
         "hidden": false,
         "locked": false
        },
        {
         "code": ">>> np.all([c in country_array for c in q2_5[0]])\nTrue",
         "hidden": false,
         "locked": false
        }
       ],
       "scored": true,
       "setup": "",
       "teardown": "",
       "type": "doctest"
      }
     ]
    },
    "q2_7": {
     "name": "q2_7",
     "points": [
      0,
      0
     ],
     "suites": [
      {
       "cases": [
        {
         "code": ">>> len(q2_7) == 3\nTrue",
         "hidden": false,
         "locked": false
        },
        {
         "code": ">>> np.all([c in country_array for c in q2_7[0]])\nTrue",
         "hidden": false,
         "locked": false
        }
       ],
       "scored": true,
       "setup": "",
       "teardown": "",
       "type": "doctest"
      }
     ]
    },
    "q3_1": {
     "name": "q3_1",
     "points": [
      0,
      0,
      0.1
     ],
     "suites": [
      {
       "cases": [
        {
         "code": ">>> indexed_data.labels == ('country', 'year', 'Indexed K', 'Indexed L', 'Indexed Y')\nTrue",
         "hidden": false,
         "locked": false
        },
        {
         "code": ">>> indexed_data.num_rows == 120\nTrue",
         "hidden": false,
         "locked": false
        },
        {
         "code": ">>> np.isclose(indexed_data.where('country', 'China').where('year', 1990).column('Indexed K')[0], 8.43158946792127)\nTrue",
         "hidden": false,
         "locked": false
        }
       ],
       "scored": true,
       "setup": "",
       "teardown": "",
       "type": "doctest"
      }
     ]
    },
    "q3_2": {
     "name": "q3_2",
     "points": null,
     "suites": [
      {
       "cases": [
        {
         "code": ">>> log_ratios.num_rows == 120\nTrue",
         "hidden": false,
         "locked": false
        },
        {
         "code": ">>> len(log_ratios.labels) == 4\nTrue",
         "hidden": false,
         "locked": false
        }
       ],
       "scored": true,
       "setup": "",
       "teardown": "",
       "type": "doctest"
      }
     ]
    },
    "q3_4": {
     "name": "q3_4",
     "points": null,
     "suites": [
      {
       "cases": [
        {
         "code": ">>> len(china_x) == 30 and len(china_y) == 30\nTrue",
         "hidden": false,
         "locked": false
        },
        {
         "code": ">>> isinstance(model_china.item(0), (int, float)) and isinstance(model_us.item(0), (int, float))\nTrue",
         "hidden": false,
         "locked": false
        }
       ],
       "scored": true,
       "setup": "",
       "teardown": "",
       "type": "doctest"
      }
     ]
    },
    "q3_5": {
     "name": "q3_5",
     "points": [
      0,
      0,
      0.5
     ],
     "suites": [
      {
       "cases": [
        {
         "code": ">>> len(alpha_array) == 4 and isinstance(alpha_array.item(0), float)\nTrue",
         "hidden": false,
         "locked": false
        },
        {
         "code": ">>> len(A_array) == 4 and isinstance(A_array.item(0), float)\nTrue",
         "hidden": false,
         "locked": false
        },
        {
         "code": ">>> np.isclose(model_us.item(0), alpha_array.item(np.argwhere(country_array == 'United States').flatten()[0]))\nTrue",
         "hidden": false,
         "locked": false
        }
       ],
       "scored": true,
       "setup": "",
       "teardown": "",
       "type": "doctest"
      }
     ]
    },
    "q3_6": {
     "name": "q3_6",
     "points": [
      0
     ],
     "suites": [
      {
       "cases": [
        {
         "code": ">>> q3_6 in ['a', 'b', 'c', 'd']\nTrue",
         "hidden": false,
         "locked": false
        }
       ],
       "scored": true,
       "setup": "",
       "teardown": "",
       "type": "doctest"
      }
     ]
    }
   }
  },
  "varInspector": {
   "cols": {
    "lenName": 16,
    "lenType": 16,
    "lenVar": 40
   },
   "kernels_config": {
    "python": {
     "delete_cmd_postfix": "",
     "delete_cmd_prefix": "del ",
     "library": "var_list.py",
     "varRefreshCmd": "print(var_dic_list())"
    },
    "r": {
     "delete_cmd_postfix": ") ",
     "delete_cmd_prefix": "rm(",
     "library": "var_list.r",
     "varRefreshCmd": "cat(var_dic_list()) "
    }
   },
   "types_to_exclude": [
    "module",
    "function",
    "builtin_function_or_method",
    "instance",
    "_Feature"
   ],
   "window_display": false
  }
 },
 "nbformat": 4,
 "nbformat_minor": 4
}
